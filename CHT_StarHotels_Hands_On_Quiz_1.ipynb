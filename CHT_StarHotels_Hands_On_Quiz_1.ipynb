{
  "cells": [
    {
      "cell_type": "markdown",
      "id": "dense-medicaid",
      "metadata": {
        "id": "dense-medicaid"
      },
      "source": [
        "# Star Hotels Project\n",
        "\n",
        "## Context\n",
        "\n",
        "A significant number of hotel bookings are called off due to cancellations or no-shows. The typical reasons for cancellations include change of plans, scheduling conflicts, etc. This is often made easier by the option to do so free of charge or preferably at a low cost which is beneficial to hotel guests but it is a less desirable and possibly revenue-diminishing factor for hotels to deal with. Such losses are particularly high on last-minute cancellations.\n",
        "\n",
        "The new technologies involving online booking channels have dramatically changed customers’ booking possibilities and behavior. This adds a further dimension to the challenge of how hotels handle cancellations, which are no longer limited to traditional booking and guest characteristics.\n",
        "\n",
        "The cancellation of bookings impact a hotel on various fronts:\n",
        "1. Loss of resources (revenue) when the hotel cannot resell the room.\n",
        "2. Additional costs of distribution channels by increasing commissions or paying for publicity to help sell these rooms.\n",
        "3. Lowering prices last minute, so the hotel can resell a room, resulting in reducing the profit margin.\n",
        "4. Human resources to make arrangements for the guests.\n",
        "\n",
        "## Objective\n",
        "\n",
        "The increasing number of cancellations calls for a Machine Learning based solution that can help in predicting which booking is likely to be canceled. Star Hotels Group has a chain of hotels in Portugal, they are facing problems with the high number of booking cancellations and have reached out to your firm for data-driven solutions. You as a data scientist have to analyze the data provided to find which factors have a high influence on booking cancellations, build a predictive model that can predict which booking is going to be canceled in advance, and help in formulating profitable policies for cancellations and refunds.\n",
        "\n",
        "\n",
        "## Data Description\n",
        "\n",
        "The data contains the different attributes of customers' booking details. The detailed data dictionary is given below.\n",
        "\n",
        "\n",
        "**Data Dictionary**\n",
        "\n",
        "* no_of_adults: Number of adults\n",
        "* no_of_children: Number of Children\n",
        "* no_of_weekend_nights: Number of weekend nights (Saturday or Sunday) the guest stayed or booked to stay at the hotel\n",
        "* no_of_week_nights: Number of week nights (Monday to Friday) the guest stayed or booked to stay at the hotel\n",
        "* type_of_meal_plan: Type of meal plan booked by the customer:\n",
        "    * Not Selected – No meal plan selected\n",
        "    * Meal Plan 1 – Breakfast\n",
        "    * Meal Plan 2 – Half board (breakfast and one other meal)\n",
        "    * Meal Plan 3 – Full board (breakfast, lunch, and dinner)\n",
        "* required_car_parking_space: Does the customer require a car parking space? (0 - No, 1- Yes)\n",
        "* room_type_reserved: Type of room reserved by the customer. The values are ciphered (encoded) by Star Hotels.\n",
        "* lead_time: Number of days between the date of booking and the arrival date\n",
        "* arrival_year: Year of arrival date\n",
        "* arrival_month: Month of arrival date\n",
        "* arrival_date: Date of the month\n",
        "* market_segment_type: Market segment designation.\n",
        "* repeated_guest: Is the customer a repeated guest? (0 - No, 1- Yes)\n",
        "* no_of_previous_cancellations: Number of previous bookings that were canceled by the customer prior to the current booking\n",
        "* no_of_previous_bookings_not_canceled: Number of previous bookings not canceled by the customer prior to the current booking\n",
        "* avg_price_per_room: Average price per day of the reservation; prices of the rooms are dynamic. (in euros)\n",
        "* no_of_special_requests: Total number of special requests made by the customer (e.g. high floor, view from the room, etc)\n",
        "* booking_status: Flag indicating if the booking was canceled or not."
      ]
    },
    {
      "cell_type": "code",
      "execution_count": 1,
      "id": "proper-calgary",
      "metadata": {
        "id": "proper-calgary"
      },
      "outputs": [],
      "source": [
        "# this will help in making the Python code more structured automatically (help adhere to good coding practices)\n",
        "#%load_ext nb_black\n",
        "\n",
        "import warnings\n",
        "\n",
        "warnings.filterwarnings(\"ignore\")\n",
        "from statsmodels.tools.sm_exceptions import ConvergenceWarning\n",
        "\n",
        "warnings.simplefilter(\"ignore\", ConvergenceWarning)\n",
        "\n",
        "# Libraries to help with reading and manipulating data\n",
        "\n",
        "import pandas as pd\n",
        "import numpy as np\n",
        "\n",
        "# Library to split data\n",
        "from sklearn.model_selection import train_test_split\n",
        "\n",
        "# libaries to help with data visualization\n",
        "import matplotlib.pyplot as plt\n",
        "import seaborn as sns\n",
        "\n",
        "# Removes the limit for the number of displayed columns\n",
        "pd.set_option(\"display.max_columns\", None)\n",
        "# Sets the limit for the number of displayed rows\n",
        "pd.set_option(\"display.max_rows\", 200)\n",
        "# setting the precision of floating numbers to 5 decimal points\n",
        "pd.set_option(\"display.float_format\", lambda x: \"%.5f\" % x)\n",
        "\n",
        "# To build model for prediction\n",
        "import statsmodels.stats.api as sms\n",
        "from statsmodels.stats.outliers_influence import variance_inflation_factor\n",
        "import statsmodels.api as sm\n",
        "from statsmodels.tools.tools import add_constant\n",
        "from sklearn.linear_model import LogisticRegression\n",
        "from sklearn.tree import DecisionTreeClassifier\n",
        "from sklearn import tree\n",
        "from sklearn import metrics\n",
        "\n",
        "# To tune different models\n",
        "from sklearn.model_selection import GridSearchCV\n",
        "\n",
        "\n",
        "# To get diferent metric scores\n",
        "from sklearn.metrics import (\n",
        "    f1_score,\n",
        "    accuracy_score,\n",
        "    recall_score,\n",
        "    precision_score,\n",
        "    confusion_matrix,\n",
        "    classification_report,\n",
        "    roc_auc_score,\n",
        "    plot_confusion_matrix,\n",
        "    precision_recall_curve,\n",
        "    roc_curve,\n",
        "    make_scorer,\n",
        ")"
      ]
    },
    {
      "cell_type": "markdown",
      "id": "fantastic-rebel",
      "metadata": {
        "id": "fantastic-rebel"
      },
      "source": [
        "## Import Dataset"
      ]
    },
    {
      "cell_type": "code",
      "execution_count": 2,
      "id": "precious-leonard",
      "metadata": {
        "id": "precious-leonard"
      },
      "outputs": [],
      "source": [
        "hotel = pd.read_csv(\"StarHotelsGroup.csv\")"
      ]
    },
    {
      "cell_type": "code",
      "execution_count": 4,
      "id": "geographic-gender",
      "metadata": {
        "id": "geographic-gender"
      },
      "outputs": [],
      "source": [
        "# copying data to another variable to avoid any changes to original data\n",
        "data = hotel.copy()"
      ]
    },
    {
      "cell_type": "markdown",
      "id": "convinced-blackberry",
      "metadata": {
        "id": "convinced-blackberry"
      },
      "source": [
        "### View the first and last 5 rows of the dataset"
      ]
    },
    {
      "cell_type": "code",
      "execution_count": 5,
      "id": "tested-adjustment",
      "metadata": {
        "id": "tested-adjustment",
        "outputId": "6bf50ad2-c2c6-4ee1-8be4-7d9695aad036",
        "colab": {
          "base_uri": "https://localhost:8080/",
          "height": 270
        }
      },
      "outputs": [
        {
          "output_type": "execute_result",
          "data": {
            "text/plain": [
              "   no_of_adults  no_of_children  no_of_weekend_nights  no_of_week_nights  \\\n",
              "0             2               0                     1                  2   \n",
              "1             2               0                     2                  3   \n",
              "2             1               0                     2                  1   \n",
              "3             2               0                     0                  2   \n",
              "4             3               0                     0                  3   \n",
              "\n",
              "  type_of_meal_plan  required_car_parking_space room_type_reserved  lead_time  \\\n",
              "0       Meal Plan 1                           0        Room_Type 1        224   \n",
              "1      Not Selected                           0        Room_Type 1          5   \n",
              "2       Meal Plan 1                           0        Room_Type 1          1   \n",
              "3       Meal Plan 1                           0        Room_Type 1        211   \n",
              "4      Not Selected                           0        Room_Type 1        277   \n",
              "\n",
              "   arrival_year  arrival_month  arrival_date market_segment_type  \\\n",
              "0          2017             10             2             Offline   \n",
              "1          2018             11             6              Online   \n",
              "2          2018              2            28              Online   \n",
              "3          2018              5            20              Online   \n",
              "4          2019              7            13              Online   \n",
              "\n",
              "   repeated_guest  no_of_previous_cancellations  \\\n",
              "0               0                             0   \n",
              "1               0                             0   \n",
              "2               0                             0   \n",
              "3               0                             0   \n",
              "4               0                             0   \n",
              "\n",
              "   no_of_previous_bookings_not_canceled  avg_price_per_room  \\\n",
              "0                                     0            65.00000   \n",
              "1                                     0           106.68000   \n",
              "2                                     0            60.00000   \n",
              "3                                     0           100.00000   \n",
              "4                                     0            89.10000   \n",
              "\n",
              "   no_of_special_requests booking_status  \n",
              "0                       0   Not_Canceled  \n",
              "1                       1   Not_Canceled  \n",
              "2                       0       Canceled  \n",
              "3                       0       Canceled  \n",
              "4                       2       Canceled  "
            ],
            "text/html": [
              "\n",
              "  <div id=\"df-110e7cde-89ef-4dae-96be-02446c6ed549\">\n",
              "    <div class=\"colab-df-container\">\n",
              "      <div>\n",
              "<style scoped>\n",
              "    .dataframe tbody tr th:only-of-type {\n",
              "        vertical-align: middle;\n",
              "    }\n",
              "\n",
              "    .dataframe tbody tr th {\n",
              "        vertical-align: top;\n",
              "    }\n",
              "\n",
              "    .dataframe thead th {\n",
              "        text-align: right;\n",
              "    }\n",
              "</style>\n",
              "<table border=\"1\" class=\"dataframe\">\n",
              "  <thead>\n",
              "    <tr style=\"text-align: right;\">\n",
              "      <th></th>\n",
              "      <th>no_of_adults</th>\n",
              "      <th>no_of_children</th>\n",
              "      <th>no_of_weekend_nights</th>\n",
              "      <th>no_of_week_nights</th>\n",
              "      <th>type_of_meal_plan</th>\n",
              "      <th>required_car_parking_space</th>\n",
              "      <th>room_type_reserved</th>\n",
              "      <th>lead_time</th>\n",
              "      <th>arrival_year</th>\n",
              "      <th>arrival_month</th>\n",
              "      <th>arrival_date</th>\n",
              "      <th>market_segment_type</th>\n",
              "      <th>repeated_guest</th>\n",
              "      <th>no_of_previous_cancellations</th>\n",
              "      <th>no_of_previous_bookings_not_canceled</th>\n",
              "      <th>avg_price_per_room</th>\n",
              "      <th>no_of_special_requests</th>\n",
              "      <th>booking_status</th>\n",
              "    </tr>\n",
              "  </thead>\n",
              "  <tbody>\n",
              "    <tr>\n",
              "      <th>0</th>\n",
              "      <td>2</td>\n",
              "      <td>0</td>\n",
              "      <td>1</td>\n",
              "      <td>2</td>\n",
              "      <td>Meal Plan 1</td>\n",
              "      <td>0</td>\n",
              "      <td>Room_Type 1</td>\n",
              "      <td>224</td>\n",
              "      <td>2017</td>\n",
              "      <td>10</td>\n",
              "      <td>2</td>\n",
              "      <td>Offline</td>\n",
              "      <td>0</td>\n",
              "      <td>0</td>\n",
              "      <td>0</td>\n",
              "      <td>65.00000</td>\n",
              "      <td>0</td>\n",
              "      <td>Not_Canceled</td>\n",
              "    </tr>\n",
              "    <tr>\n",
              "      <th>1</th>\n",
              "      <td>2</td>\n",
              "      <td>0</td>\n",
              "      <td>2</td>\n",
              "      <td>3</td>\n",
              "      <td>Not Selected</td>\n",
              "      <td>0</td>\n",
              "      <td>Room_Type 1</td>\n",
              "      <td>5</td>\n",
              "      <td>2018</td>\n",
              "      <td>11</td>\n",
              "      <td>6</td>\n",
              "      <td>Online</td>\n",
              "      <td>0</td>\n",
              "      <td>0</td>\n",
              "      <td>0</td>\n",
              "      <td>106.68000</td>\n",
              "      <td>1</td>\n",
              "      <td>Not_Canceled</td>\n",
              "    </tr>\n",
              "    <tr>\n",
              "      <th>2</th>\n",
              "      <td>1</td>\n",
              "      <td>0</td>\n",
              "      <td>2</td>\n",
              "      <td>1</td>\n",
              "      <td>Meal Plan 1</td>\n",
              "      <td>0</td>\n",
              "      <td>Room_Type 1</td>\n",
              "      <td>1</td>\n",
              "      <td>2018</td>\n",
              "      <td>2</td>\n",
              "      <td>28</td>\n",
              "      <td>Online</td>\n",
              "      <td>0</td>\n",
              "      <td>0</td>\n",
              "      <td>0</td>\n",
              "      <td>60.00000</td>\n",
              "      <td>0</td>\n",
              "      <td>Canceled</td>\n",
              "    </tr>\n",
              "    <tr>\n",
              "      <th>3</th>\n",
              "      <td>2</td>\n",
              "      <td>0</td>\n",
              "      <td>0</td>\n",
              "      <td>2</td>\n",
              "      <td>Meal Plan 1</td>\n",
              "      <td>0</td>\n",
              "      <td>Room_Type 1</td>\n",
              "      <td>211</td>\n",
              "      <td>2018</td>\n",
              "      <td>5</td>\n",
              "      <td>20</td>\n",
              "      <td>Online</td>\n",
              "      <td>0</td>\n",
              "      <td>0</td>\n",
              "      <td>0</td>\n",
              "      <td>100.00000</td>\n",
              "      <td>0</td>\n",
              "      <td>Canceled</td>\n",
              "    </tr>\n",
              "    <tr>\n",
              "      <th>4</th>\n",
              "      <td>3</td>\n",
              "      <td>0</td>\n",
              "      <td>0</td>\n",
              "      <td>3</td>\n",
              "      <td>Not Selected</td>\n",
              "      <td>0</td>\n",
              "      <td>Room_Type 1</td>\n",
              "      <td>277</td>\n",
              "      <td>2019</td>\n",
              "      <td>7</td>\n",
              "      <td>13</td>\n",
              "      <td>Online</td>\n",
              "      <td>0</td>\n",
              "      <td>0</td>\n",
              "      <td>0</td>\n",
              "      <td>89.10000</td>\n",
              "      <td>2</td>\n",
              "      <td>Canceled</td>\n",
              "    </tr>\n",
              "  </tbody>\n",
              "</table>\n",
              "</div>\n",
              "      <button class=\"colab-df-convert\" onclick=\"convertToInteractive('df-110e7cde-89ef-4dae-96be-02446c6ed549')\"\n",
              "              title=\"Convert this dataframe to an interactive table.\"\n",
              "              style=\"display:none;\">\n",
              "        \n",
              "  <svg xmlns=\"http://www.w3.org/2000/svg\" height=\"24px\"viewBox=\"0 0 24 24\"\n",
              "       width=\"24px\">\n",
              "    <path d=\"M0 0h24v24H0V0z\" fill=\"none\"/>\n",
              "    <path d=\"M18.56 5.44l.94 2.06.94-2.06 2.06-.94-2.06-.94-.94-2.06-.94 2.06-2.06.94zm-11 1L8.5 8.5l.94-2.06 2.06-.94-2.06-.94L8.5 2.5l-.94 2.06-2.06.94zm10 10l.94 2.06.94-2.06 2.06-.94-2.06-.94-.94-2.06-.94 2.06-2.06.94z\"/><path d=\"M17.41 7.96l-1.37-1.37c-.4-.4-.92-.59-1.43-.59-.52 0-1.04.2-1.43.59L10.3 9.45l-7.72 7.72c-.78.78-.78 2.05 0 2.83L4 21.41c.39.39.9.59 1.41.59.51 0 1.02-.2 1.41-.59l7.78-7.78 2.81-2.81c.8-.78.8-2.07 0-2.86zM5.41 20L4 18.59l7.72-7.72 1.47 1.35L5.41 20z\"/>\n",
              "  </svg>\n",
              "      </button>\n",
              "      \n",
              "  <style>\n",
              "    .colab-df-container {\n",
              "      display:flex;\n",
              "      flex-wrap:wrap;\n",
              "      gap: 12px;\n",
              "    }\n",
              "\n",
              "    .colab-df-convert {\n",
              "      background-color: #E8F0FE;\n",
              "      border: none;\n",
              "      border-radius: 50%;\n",
              "      cursor: pointer;\n",
              "      display: none;\n",
              "      fill: #1967D2;\n",
              "      height: 32px;\n",
              "      padding: 0 0 0 0;\n",
              "      width: 32px;\n",
              "    }\n",
              "\n",
              "    .colab-df-convert:hover {\n",
              "      background-color: #E2EBFA;\n",
              "      box-shadow: 0px 1px 2px rgba(60, 64, 67, 0.3), 0px 1px 3px 1px rgba(60, 64, 67, 0.15);\n",
              "      fill: #174EA6;\n",
              "    }\n",
              "\n",
              "    [theme=dark] .colab-df-convert {\n",
              "      background-color: #3B4455;\n",
              "      fill: #D2E3FC;\n",
              "    }\n",
              "\n",
              "    [theme=dark] .colab-df-convert:hover {\n",
              "      background-color: #434B5C;\n",
              "      box-shadow: 0px 1px 3px 1px rgba(0, 0, 0, 0.15);\n",
              "      filter: drop-shadow(0px 1px 2px rgba(0, 0, 0, 0.3));\n",
              "      fill: #FFFFFF;\n",
              "    }\n",
              "  </style>\n",
              "\n",
              "      <script>\n",
              "        const buttonEl =\n",
              "          document.querySelector('#df-110e7cde-89ef-4dae-96be-02446c6ed549 button.colab-df-convert');\n",
              "        buttonEl.style.display =\n",
              "          google.colab.kernel.accessAllowed ? 'block' : 'none';\n",
              "\n",
              "        async function convertToInteractive(key) {\n",
              "          const element = document.querySelector('#df-110e7cde-89ef-4dae-96be-02446c6ed549');\n",
              "          const dataTable =\n",
              "            await google.colab.kernel.invokeFunction('convertToInteractive',\n",
              "                                                     [key], {});\n",
              "          if (!dataTable) return;\n",
              "\n",
              "          const docLinkHtml = 'Like what you see? Visit the ' +\n",
              "            '<a target=\"_blank\" href=https://colab.research.google.com/notebooks/data_table.ipynb>data table notebook</a>'\n",
              "            + ' to learn more about interactive tables.';\n",
              "          element.innerHTML = '';\n",
              "          dataTable['output_type'] = 'display_data';\n",
              "          await google.colab.output.renderOutput(dataTable, element);\n",
              "          const docLink = document.createElement('div');\n",
              "          docLink.innerHTML = docLinkHtml;\n",
              "          element.appendChild(docLink);\n",
              "        }\n",
              "      </script>\n",
              "    </div>\n",
              "  </div>\n",
              "  "
            ]
          },
          "metadata": {},
          "execution_count": 5
        }
      ],
      "source": [
        "data.head()"
      ]
    },
    {
      "cell_type": "code",
      "execution_count": 6,
      "id": "demonstrated-charger",
      "metadata": {
        "id": "demonstrated-charger",
        "outputId": "ca5c50ac-d0df-4929-87f4-59ec94f05b3f",
        "colab": {
          "base_uri": "https://localhost:8080/",
          "height": 270
        }
      },
      "outputs": [
        {
          "output_type": "execute_result",
          "data": {
            "text/plain": [
              "       no_of_adults  no_of_children  no_of_weekend_nights  no_of_week_nights  \\\n",
              "56921             2               1                     0                  1   \n",
              "56922             2               0                     1                  1   \n",
              "56923             2               0                     0                  3   \n",
              "56924             2               0                     2                  2   \n",
              "56925             2               0                     1                  2   \n",
              "\n",
              "      type_of_meal_plan  required_car_parking_space room_type_reserved  \\\n",
              "56921       Meal Plan 2                           0        Room_Type 4   \n",
              "56922       Meal Plan 1                           0        Room_Type 1   \n",
              "56923      Not Selected                           0        Room_Type 1   \n",
              "56924      Not Selected                           0        Room_Type 1   \n",
              "56925       Meal Plan 1                           0        Room_Type 1   \n",
              "\n",
              "       lead_time  arrival_year  arrival_month  arrival_date  \\\n",
              "56921         45          2019              6            15   \n",
              "56922        320          2019              5            15   \n",
              "56923         63          2018              4            21   \n",
              "56924          6          2019              4            28   \n",
              "56925        207          2018             12            30   \n",
              "\n",
              "      market_segment_type  repeated_guest  no_of_previous_cancellations  \\\n",
              "56921              Online               0                             0   \n",
              "56922             Offline               0                             0   \n",
              "56923              Online               0                             0   \n",
              "56924              Online               0                             0   \n",
              "56925             Offline               0                             0   \n",
              "\n",
              "       no_of_previous_bookings_not_canceled  avg_price_per_room  \\\n",
              "56921                                     0           163.88000   \n",
              "56922                                     0            90.00000   \n",
              "56923                                     0            94.50000   \n",
              "56924                                     0           162.50000   \n",
              "56925                                     0           161.67000   \n",
              "\n",
              "       no_of_special_requests booking_status  \n",
              "56921                       1   Not_Canceled  \n",
              "56922                       1       Canceled  \n",
              "56923                       0       Canceled  \n",
              "56924                       2   Not_Canceled  \n",
              "56925                       0   Not_Canceled  "
            ],
            "text/html": [
              "\n",
              "  <div id=\"df-327f0b5f-a053-4f26-89e6-8edaafd4b06b\">\n",
              "    <div class=\"colab-df-container\">\n",
              "      <div>\n",
              "<style scoped>\n",
              "    .dataframe tbody tr th:only-of-type {\n",
              "        vertical-align: middle;\n",
              "    }\n",
              "\n",
              "    .dataframe tbody tr th {\n",
              "        vertical-align: top;\n",
              "    }\n",
              "\n",
              "    .dataframe thead th {\n",
              "        text-align: right;\n",
              "    }\n",
              "</style>\n",
              "<table border=\"1\" class=\"dataframe\">\n",
              "  <thead>\n",
              "    <tr style=\"text-align: right;\">\n",
              "      <th></th>\n",
              "      <th>no_of_adults</th>\n",
              "      <th>no_of_children</th>\n",
              "      <th>no_of_weekend_nights</th>\n",
              "      <th>no_of_week_nights</th>\n",
              "      <th>type_of_meal_plan</th>\n",
              "      <th>required_car_parking_space</th>\n",
              "      <th>room_type_reserved</th>\n",
              "      <th>lead_time</th>\n",
              "      <th>arrival_year</th>\n",
              "      <th>arrival_month</th>\n",
              "      <th>arrival_date</th>\n",
              "      <th>market_segment_type</th>\n",
              "      <th>repeated_guest</th>\n",
              "      <th>no_of_previous_cancellations</th>\n",
              "      <th>no_of_previous_bookings_not_canceled</th>\n",
              "      <th>avg_price_per_room</th>\n",
              "      <th>no_of_special_requests</th>\n",
              "      <th>booking_status</th>\n",
              "    </tr>\n",
              "  </thead>\n",
              "  <tbody>\n",
              "    <tr>\n",
              "      <th>56921</th>\n",
              "      <td>2</td>\n",
              "      <td>1</td>\n",
              "      <td>0</td>\n",
              "      <td>1</td>\n",
              "      <td>Meal Plan 2</td>\n",
              "      <td>0</td>\n",
              "      <td>Room_Type 4</td>\n",
              "      <td>45</td>\n",
              "      <td>2019</td>\n",
              "      <td>6</td>\n",
              "      <td>15</td>\n",
              "      <td>Online</td>\n",
              "      <td>0</td>\n",
              "      <td>0</td>\n",
              "      <td>0</td>\n",
              "      <td>163.88000</td>\n",
              "      <td>1</td>\n",
              "      <td>Not_Canceled</td>\n",
              "    </tr>\n",
              "    <tr>\n",
              "      <th>56922</th>\n",
              "      <td>2</td>\n",
              "      <td>0</td>\n",
              "      <td>1</td>\n",
              "      <td>1</td>\n",
              "      <td>Meal Plan 1</td>\n",
              "      <td>0</td>\n",
              "      <td>Room_Type 1</td>\n",
              "      <td>320</td>\n",
              "      <td>2019</td>\n",
              "      <td>5</td>\n",
              "      <td>15</td>\n",
              "      <td>Offline</td>\n",
              "      <td>0</td>\n",
              "      <td>0</td>\n",
              "      <td>0</td>\n",
              "      <td>90.00000</td>\n",
              "      <td>1</td>\n",
              "      <td>Canceled</td>\n",
              "    </tr>\n",
              "    <tr>\n",
              "      <th>56923</th>\n",
              "      <td>2</td>\n",
              "      <td>0</td>\n",
              "      <td>0</td>\n",
              "      <td>3</td>\n",
              "      <td>Not Selected</td>\n",
              "      <td>0</td>\n",
              "      <td>Room_Type 1</td>\n",
              "      <td>63</td>\n",
              "      <td>2018</td>\n",
              "      <td>4</td>\n",
              "      <td>21</td>\n",
              "      <td>Online</td>\n",
              "      <td>0</td>\n",
              "      <td>0</td>\n",
              "      <td>0</td>\n",
              "      <td>94.50000</td>\n",
              "      <td>0</td>\n",
              "      <td>Canceled</td>\n",
              "    </tr>\n",
              "    <tr>\n",
              "      <th>56924</th>\n",
              "      <td>2</td>\n",
              "      <td>0</td>\n",
              "      <td>2</td>\n",
              "      <td>2</td>\n",
              "      <td>Not Selected</td>\n",
              "      <td>0</td>\n",
              "      <td>Room_Type 1</td>\n",
              "      <td>6</td>\n",
              "      <td>2019</td>\n",
              "      <td>4</td>\n",
              "      <td>28</td>\n",
              "      <td>Online</td>\n",
              "      <td>0</td>\n",
              "      <td>0</td>\n",
              "      <td>0</td>\n",
              "      <td>162.50000</td>\n",
              "      <td>2</td>\n",
              "      <td>Not_Canceled</td>\n",
              "    </tr>\n",
              "    <tr>\n",
              "      <th>56925</th>\n",
              "      <td>2</td>\n",
              "      <td>0</td>\n",
              "      <td>1</td>\n",
              "      <td>2</td>\n",
              "      <td>Meal Plan 1</td>\n",
              "      <td>0</td>\n",
              "      <td>Room_Type 1</td>\n",
              "      <td>207</td>\n",
              "      <td>2018</td>\n",
              "      <td>12</td>\n",
              "      <td>30</td>\n",
              "      <td>Offline</td>\n",
              "      <td>0</td>\n",
              "      <td>0</td>\n",
              "      <td>0</td>\n",
              "      <td>161.67000</td>\n",
              "      <td>0</td>\n",
              "      <td>Not_Canceled</td>\n",
              "    </tr>\n",
              "  </tbody>\n",
              "</table>\n",
              "</div>\n",
              "      <button class=\"colab-df-convert\" onclick=\"convertToInteractive('df-327f0b5f-a053-4f26-89e6-8edaafd4b06b')\"\n",
              "              title=\"Convert this dataframe to an interactive table.\"\n",
              "              style=\"display:none;\">\n",
              "        \n",
              "  <svg xmlns=\"http://www.w3.org/2000/svg\" height=\"24px\"viewBox=\"0 0 24 24\"\n",
              "       width=\"24px\">\n",
              "    <path d=\"M0 0h24v24H0V0z\" fill=\"none\"/>\n",
              "    <path d=\"M18.56 5.44l.94 2.06.94-2.06 2.06-.94-2.06-.94-.94-2.06-.94 2.06-2.06.94zm-11 1L8.5 8.5l.94-2.06 2.06-.94-2.06-.94L8.5 2.5l-.94 2.06-2.06.94zm10 10l.94 2.06.94-2.06 2.06-.94-2.06-.94-.94-2.06-.94 2.06-2.06.94z\"/><path d=\"M17.41 7.96l-1.37-1.37c-.4-.4-.92-.59-1.43-.59-.52 0-1.04.2-1.43.59L10.3 9.45l-7.72 7.72c-.78.78-.78 2.05 0 2.83L4 21.41c.39.39.9.59 1.41.59.51 0 1.02-.2 1.41-.59l7.78-7.78 2.81-2.81c.8-.78.8-2.07 0-2.86zM5.41 20L4 18.59l7.72-7.72 1.47 1.35L5.41 20z\"/>\n",
              "  </svg>\n",
              "      </button>\n",
              "      \n",
              "  <style>\n",
              "    .colab-df-container {\n",
              "      display:flex;\n",
              "      flex-wrap:wrap;\n",
              "      gap: 12px;\n",
              "    }\n",
              "\n",
              "    .colab-df-convert {\n",
              "      background-color: #E8F0FE;\n",
              "      border: none;\n",
              "      border-radius: 50%;\n",
              "      cursor: pointer;\n",
              "      display: none;\n",
              "      fill: #1967D2;\n",
              "      height: 32px;\n",
              "      padding: 0 0 0 0;\n",
              "      width: 32px;\n",
              "    }\n",
              "\n",
              "    .colab-df-convert:hover {\n",
              "      background-color: #E2EBFA;\n",
              "      box-shadow: 0px 1px 2px rgba(60, 64, 67, 0.3), 0px 1px 3px 1px rgba(60, 64, 67, 0.15);\n",
              "      fill: #174EA6;\n",
              "    }\n",
              "\n",
              "    [theme=dark] .colab-df-convert {\n",
              "      background-color: #3B4455;\n",
              "      fill: #D2E3FC;\n",
              "    }\n",
              "\n",
              "    [theme=dark] .colab-df-convert:hover {\n",
              "      background-color: #434B5C;\n",
              "      box-shadow: 0px 1px 3px 1px rgba(0, 0, 0, 0.15);\n",
              "      filter: drop-shadow(0px 1px 2px rgba(0, 0, 0, 0.3));\n",
              "      fill: #FFFFFF;\n",
              "    }\n",
              "  </style>\n",
              "\n",
              "      <script>\n",
              "        const buttonEl =\n",
              "          document.querySelector('#df-327f0b5f-a053-4f26-89e6-8edaafd4b06b button.colab-df-convert');\n",
              "        buttonEl.style.display =\n",
              "          google.colab.kernel.accessAllowed ? 'block' : 'none';\n",
              "\n",
              "        async function convertToInteractive(key) {\n",
              "          const element = document.querySelector('#df-327f0b5f-a053-4f26-89e6-8edaafd4b06b');\n",
              "          const dataTable =\n",
              "            await google.colab.kernel.invokeFunction('convertToInteractive',\n",
              "                                                     [key], {});\n",
              "          if (!dataTable) return;\n",
              "\n",
              "          const docLinkHtml = 'Like what you see? Visit the ' +\n",
              "            '<a target=\"_blank\" href=https://colab.research.google.com/notebooks/data_table.ipynb>data table notebook</a>'\n",
              "            + ' to learn more about interactive tables.';\n",
              "          element.innerHTML = '';\n",
              "          dataTable['output_type'] = 'display_data';\n",
              "          await google.colab.output.renderOutput(dataTable, element);\n",
              "          const docLink = document.createElement('div');\n",
              "          docLink.innerHTML = docLinkHtml;\n",
              "          element.appendChild(docLink);\n",
              "        }\n",
              "      </script>\n",
              "    </div>\n",
              "  </div>\n",
              "  "
            ]
          },
          "metadata": {},
          "execution_count": 6
        }
      ],
      "source": [
        "data.tail()"
      ]
    },
    {
      "cell_type": "markdown",
      "id": "prepared-clause",
      "metadata": {
        "id": "prepared-clause"
      },
      "source": [
        "### Understand the shape of the dataset"
      ]
    },
    {
      "cell_type": "code",
      "execution_count": 7,
      "id": "likely-scene",
      "metadata": {
        "id": "likely-scene",
        "outputId": "e569c463-e7cd-4827-f7f0-09d2a918c923",
        "colab": {
          "base_uri": "https://localhost:8080/"
        }
      },
      "outputs": [
        {
          "output_type": "execute_result",
          "data": {
            "text/plain": [
              "(56926, 18)"
            ]
          },
          "metadata": {},
          "execution_count": 7
        }
      ],
      "source": [
        "data.shape"
      ]
    },
    {
      "cell_type": "markdown",
      "id": "sacred-language",
      "metadata": {
        "id": "sacred-language"
      },
      "source": [
        "* The dataset has 56926 rows and 18 columns "
      ]
    },
    {
      "cell_type": "markdown",
      "id": "creative-warner",
      "metadata": {
        "id": "creative-warner"
      },
      "source": [
        "### Check the data types of the columns for the dataset"
      ]
    },
    {
      "cell_type": "code",
      "execution_count": 8,
      "id": "expanded-technique",
      "metadata": {
        "id": "expanded-technique",
        "outputId": "c6cc399a-10a4-4537-8a4d-d344864f27af",
        "colab": {
          "base_uri": "https://localhost:8080/"
        }
      },
      "outputs": [
        {
          "output_type": "stream",
          "name": "stdout",
          "text": [
            "<class 'pandas.core.frame.DataFrame'>\n",
            "RangeIndex: 56926 entries, 0 to 56925\n",
            "Data columns (total 18 columns):\n",
            " #   Column                                Non-Null Count  Dtype  \n",
            "---  ------                                --------------  -----  \n",
            " 0   no_of_adults                          56926 non-null  int64  \n",
            " 1   no_of_children                        56926 non-null  int64  \n",
            " 2   no_of_weekend_nights                  56926 non-null  int64  \n",
            " 3   no_of_week_nights                     56926 non-null  int64  \n",
            " 4   type_of_meal_plan                     56926 non-null  object \n",
            " 5   required_car_parking_space            56926 non-null  int64  \n",
            " 6   room_type_reserved                    56926 non-null  object \n",
            " 7   lead_time                             56926 non-null  int64  \n",
            " 8   arrival_year                          56926 non-null  int64  \n",
            " 9   arrival_month                         56926 non-null  int64  \n",
            " 10  arrival_date                          56926 non-null  int64  \n",
            " 11  market_segment_type                   56926 non-null  object \n",
            " 12  repeated_guest                        56926 non-null  int64  \n",
            " 13  no_of_previous_cancellations          56926 non-null  int64  \n",
            " 14  no_of_previous_bookings_not_canceled  56926 non-null  int64  \n",
            " 15  avg_price_per_room                    56926 non-null  float64\n",
            " 16  no_of_special_requests                56926 non-null  int64  \n",
            " 17  booking_status                        56926 non-null  object \n",
            "dtypes: float64(1), int64(13), object(4)\n",
            "memory usage: 7.8+ MB\n"
          ]
        }
      ],
      "source": [
        "data.info()"
      ]
    },
    {
      "cell_type": "markdown",
      "id": "august-hopkins",
      "metadata": {
        "id": "august-hopkins"
      },
      "source": [
        "* `type_of_meal_plan`, `room_type_reserved`, `market_segment_type`, and `booking_status` are of object type while rest columns are numeric in nature.\n",
        "\n",
        "* There are no null values in the dataset."
      ]
    },
    {
      "cell_type": "code",
      "execution_count": 9,
      "id": "greenhouse-vertical",
      "metadata": {
        "id": "greenhouse-vertical",
        "outputId": "ec072cad-ae4f-4378-e36e-b686718719ba",
        "colab": {
          "base_uri": "https://localhost:8080/"
        }
      },
      "outputs": [
        {
          "output_type": "execute_result",
          "data": {
            "text/plain": [
              "14350"
            ]
          },
          "metadata": {},
          "execution_count": 9
        }
      ],
      "source": [
        "# checking for duplicate values\n",
        "data.duplicated().sum()"
      ]
    },
    {
      "cell_type": "markdown",
      "id": "adjustable-programmer",
      "metadata": {
        "id": "adjustable-programmer"
      },
      "source": [
        "- There are 14350 duplicate values in the data. \n",
        "- Let's drop these values."
      ]
    },
    {
      "cell_type": "code",
      "execution_count": 10,
      "id": "referenced-architect",
      "metadata": {
        "id": "referenced-architect"
      },
      "outputs": [],
      "source": [
        "data.drop_duplicates(inplace=True)"
      ]
    },
    {
      "cell_type": "markdown",
      "id": "realistic-mortgage",
      "metadata": {
        "id": "realistic-mortgage"
      },
      "source": [
        "## Exploratory Data Analysis"
      ]
    },
    {
      "cell_type": "markdown",
      "id": "43e4df73",
      "metadata": {
        "id": "43e4df73"
      },
      "source": [
        "### Q1: Check summary Statistics and analyze the variables. Also find the  Difference between the 25th quantile and 50% quantile value of average-price_per_room"
      ]
    },
    {
      "cell_type": "code",
      "execution_count": 12,
      "id": "backed-solution",
      "metadata": {
        "id": "backed-solution",
        "outputId": "ae40c798-2432-496e-8b52-786e04a1f87e",
        "colab": {
          "base_uri": "https://localhost:8080/"
        }
      },
      "outputs": [
        {
          "output_type": "execute_result",
          "data": {
            "text/plain": [
              "count   42576.00000\n",
              "mean      112.37580\n",
              "std        40.86590\n",
              "min         0.00000\n",
              "25%        85.50000\n",
              "50%       107.00000\n",
              "75%       135.00000\n",
              "max       540.00000\n",
              "Name: avg_price_per_room, dtype: float64"
            ]
          },
          "metadata": {},
          "execution_count": 12
        }
      ],
      "source": [
        "#Remove __________ and complete the code\n",
        "\n",
        "data.avg_price_per_room.describe()"
      ]
    },
    {
      "cell_type": "code",
      "source": [
        "data.avg_price_per_room.quantile(.75) - data.avg_price_per_room.quantile(.25)"
      ],
      "metadata": {
        "colab": {
          "base_uri": "https://localhost:8080/"
        },
        "id": "BjsByCHTOS8m",
        "outputId": "7371d8ee-d2d7-4d0b-9c20-0a29ec53b876"
      },
      "id": "BjsByCHTOS8m",
      "execution_count": 24,
      "outputs": [
        {
          "output_type": "execute_result",
          "data": {
            "text/plain": [
              "49.5"
            ]
          },
          "metadata": {},
          "execution_count": 24
        }
      ]
    },
    {
      "cell_type": "code",
      "source": [
        "data.columns"
      ],
      "metadata": {
        "colab": {
          "base_uri": "https://localhost:8080/"
        },
        "id": "kh2SpAJiN6Da",
        "outputId": "74db330e-5d62-4efb-b89e-76c998c4ce46"
      },
      "id": "kh2SpAJiN6Da",
      "execution_count": 11,
      "outputs": [
        {
          "output_type": "execute_result",
          "data": {
            "text/plain": [
              "Index(['no_of_adults', 'no_of_children', 'no_of_weekend_nights',\n",
              "       'no_of_week_nights', 'type_of_meal_plan', 'required_car_parking_space',\n",
              "       'room_type_reserved', 'lead_time', 'arrival_year', 'arrival_month',\n",
              "       'arrival_date', 'market_segment_type', 'repeated_guest',\n",
              "       'no_of_previous_cancellations', 'no_of_previous_bookings_not_canceled',\n",
              "       'avg_price_per_room', 'no_of_special_requests', 'booking_status'],\n",
              "      dtype='object')"
            ]
          },
          "metadata": {},
          "execution_count": 11
        }
      ]
    },
    {
      "cell_type": "markdown",
      "id": "personal-detector",
      "metadata": {
        "id": "personal-detector"
      },
      "source": [
        "**Observations:**\n",
        "* The number of adults ranges from 0 to 4, which is usual.\n",
        "* The maximum value in the number of children column is 10, which is a bit unusual and might require a check.\n",
        "* The range of the number of weeks and weekend nights seems fine. Though 8 weekends might be a very long stay.\n",
        "* At least 75% of the customers do not require car parking space.\n",
        "* On average the customers are book 77 days in advance. There's also a very huge difference in 75th percentile and maximum value which indicates there might be outliers present in this column.\n",
        "### These are some observations only, kindly try to analyze the summary statistics. "
      ]
    },
    {
      "cell_type": "markdown",
      "id": "arbitrary-intelligence",
      "metadata": {
        "id": "arbitrary-intelligence"
      },
      "source": [
        "### Univariate Analysis"
      ]
    },
    {
      "cell_type": "markdown",
      "id": "c945106c",
      "metadata": {
        "id": "c945106c"
      },
      "source": [
        "Let's explore these variables in some more depth by observing their distributions\n"
      ]
    },
    {
      "cell_type": "code",
      "execution_count": 25,
      "id": "5e6a4cac",
      "metadata": {
        "id": "5e6a4cac"
      },
      "outputs": [],
      "source": [
        "#Creating numerical columns\n",
        "num_cols=['no_of_adults', 'no_of_children', 'no_of_weekend_nights', 'no_of_week_nights','required_car_parking_space','lead_time','arrival_month','repeated_guest','no_of_previous_cancellations','no_of_previous_bookings_not_canceled', 'avg_price_per_room', 'no_of_special_requests']\n",
        "\n",
        "#Creating categorical variables \n",
        "cat_cols= ['type_of_meal_plan','room_type_reserved','market_segment_type','booking_status']"
      ]
    },
    {
      "cell_type": "code",
      "execution_count": 26,
      "id": "2411e4e3",
      "metadata": {
        "colab": {
          "base_uri": "https://localhost:8080/",
          "height": 825
        },
        "id": "2411e4e3",
        "outputId": "540e92bc-8321-4c01-9c68-b97d3ccf7e18"
      },
      "outputs": [
        {
          "output_type": "display_data",
          "data": {
            "text/plain": [
              "<Figure size 1008x1008 with 12 Axes>"
            ],
            "image/png": "[encoded data removed]"
          },
          "metadata": {
            "needs_background": "light"
          }
        }
      ],
      "source": [
        "#creating histograms\n",
        "data[num_cols].hist(figsize=(14,14))\n",
        "plt.show()"
      ]
    },
    {
      "cell_type": "markdown",
      "id": "3f154c92",
      "metadata": {
        "id": "3f154c92"
      },
      "source": [
        "* Most of the bookings were made for 2 adults.Almost 90% of the customers didn't make reservations for children.\n",
        "* No of weekend night spent is distributed mostly across values 0 , 1 and 2, with 0 being the highest.So many of the customers of the customers do not plan to spend the weekend in the hotel.\n",
        "* Most of the bookings are made for between 1 to 3 nights.A very less proportion of customers made the booking for more than 15 days.\n",
        "* Most of the customers(above 90%) do not require a car parking space.\n",
        "* The distribution of lead time is right-skewed, and there are many outliers.Some customers made booking 500 days in     advance.Many customers have made the booking on the same day of arrival as well.\n",
        "*  August is the busiest month for the hotel followed by July.A significant amount of the bookings were made in August.\n",
        "* Very few customers have more than one cancellation.Some customers canceled more than 12 times.\n",
        "* Very few customers have more than 1 booking not canceled previously.Some customers have not canceled their bookings 70 times.\n",
        "* The distribution of average price per room is skewed to right. There are outliers on both sides.The average price of a room is around ~100 euros.\n"
      ]
    },
    {
      "cell_type": "markdown",
      "id": "8f40cb3d",
      "metadata": {
        "id": "8f40cb3d"
      },
      "source": [
        "### Univariate analysis for categorical variables"
      ]
    },
    {
      "cell_type": "markdown",
      "id": "79e0bf01",
      "metadata": {
        "id": "79e0bf01"
      },
      "source": [
        "### Q2: More than 90% of the type of room reserved by the customer are of which room type?"
      ]
    },
    {
      "cell_type": "code",
      "source": [
        "data.room_type_reserved.value_counts(normalize=True)"
      ],
      "metadata": {
        "colab": {
          "base_uri": "https://localhost:8080/"
        },
        "id": "cNnDw3lEPpeA",
        "outputId": "a86335cf-a019-4929-ee73-cd8ffdc86be7"
      },
      "id": "cNnDw3lEPpeA",
      "execution_count": 30,
      "outputs": [
        {
          "output_type": "execute_result",
          "data": {
            "text/plain": [
              "Room_Type 1   0.69828\n",
              "Room_Type 4   0.22005\n",
              "Room_Type 6   0.03617\n",
              "Room_Type 5   0.02128\n",
              "Room_Type 2   0.01686\n",
              "Room_Type 7   0.00721\n",
              "Room_Type 3   0.00014\n",
              "Name: room_type_reserved, dtype: float64"
            ]
          },
          "metadata": {},
          "execution_count": 30
        }
      ]
    },
    {
      "cell_type": "code",
      "execution_count": 32,
      "id": "c9ac67fc",
      "metadata": {
        "colab": {
          "base_uri": "https://localhost:8080/"
        },
        "id": "c9ac67fc",
        "outputId": "ecb140ac-bbd8-4e8f-a2e9-18a70f236f82"
      },
      "outputs": [
        {
          "output_type": "stream",
          "name": "stdout",
          "text": [
            "Meal Plan 1    0.74838\n",
            "Not Selected   0.20472\n",
            "Meal Plan 2    0.04672\n",
            "Meal Plan 3    0.00019\n",
            "Name: type_of_meal_plan, dtype: float64\n",
            "****************************************\n",
            "Room_Type 1   0.69828\n",
            "Room_Type 4   0.22005\n",
            "Room_Type 6   0.03617\n",
            "Room_Type 5   0.02128\n",
            "Room_Type 2   0.01686\n",
            "Room_Type 7   0.00721\n",
            "Room_Type 3   0.00014\n",
            "Name: room_type_reserved, dtype: float64\n",
            "****************************************\n",
            "Online          0.80254\n",
            "Offline         0.13569\n",
            "Corporate       0.04554\n",
            "Complementary   0.01165\n",
            "Aviation        0.00458\n",
            "Name: market_segment_type, dtype: float64\n",
            "****************************************\n",
            "Not_Canceled   0.65974\n",
            "Canceled       0.34026\n",
            "Name: booking_status, dtype: float64\n",
            "****************************************\n"
          ]
        }
      ],
      "source": [
        "#Printing the % sub categories of each category \n",
        "# hint use value counts,\n",
        "\n",
        "#Remove __________ and complete the code\n",
        "\n",
        "for i in cat_cols:\n",
        "    print(data[i].value_counts(normalize=True))\n",
        "    print('*'*40)"
      ]
    },
    {
      "cell_type": "markdown",
      "id": "d36c1c45",
      "metadata": {
        "id": "d36c1c45"
      },
      "source": [
        "* Most of the customers prefer meal plan 1 that is only breakfast.20.5% of the customers didn't select a meal plan.\n",
        "* 80% of the hotel booking were made online followed by 13.6% of the booking made offline.So, it's clear that people are more likely to book online.\n",
        "### These are some observations only, kindly try to analyze all the variables. "
      ]
    },
    {
      "cell_type": "markdown",
      "id": "73d2470e",
      "metadata": {
        "id": "73d2470e"
      },
      "source": [
        "#### Let's encode Canceled bookings to 1 and Not_Canceled as 0 for further analysis"
      ]
    },
    {
      "cell_type": "markdown",
      "id": "cbf07123",
      "metadata": {
        "id": "cbf07123"
      },
      "source": [
        "### Bivariate and Multivariate analysis"
      ]
    },
    {
      "cell_type": "markdown",
      "id": "605ed100",
      "metadata": {
        "id": "605ed100"
      },
      "source": [
        "**We have analyzed different categorical and numerical variables.** \n",
        "\n",
        "**Let's now check how does cancellation rate is related with other categorical variables**"
      ]
    },
    {
      "cell_type": "code",
      "execution_count": 33,
      "id": "ce7d670a",
      "metadata": {
        "scrolled": false,
        "colab": {
          "base_uri": "https://localhost:8080/",
          "height": 1000
        },
        "id": "ce7d670a",
        "outputId": "664aeadc-a034-4595-cfea-0d59510323db"
      },
      "outputs": [
        {
          "output_type": "display_data",
          "data": {
            "text/plain": [
              "<Figure size 576x288 with 1 Axes>"
            ],
            "image/png": "[encoded data removed]"
          },
          "metadata": {
            "needs_background": "light"
          }
        },
        {
          "output_type": "display_data",
          "data": {
            "text/plain": [
              "<Figure size 576x288 with 1 Axes>"
            ],
            "image/png": "[encoded data removed]"
          },
          "metadata": {
            "needs_background": "light"
          }
        },
        {
          "output_type": "display_data",
          "data": {
            "text/plain": [
              "<Figure size 576x288 with 1 Axes>"
            ],
            "image/png": "[encoded data removed]"
          },
          "metadata": {
            "needs_background": "light"
          }
        },
        {
          "output_type": "display_data",
          "data": {
            "text/plain": [
              "<Figure size 576x288 with 1 Axes>"
            ],
            "image/png": "[encoded data removed]"
          },
          "metadata": {
            "needs_background": "light"
          }
        },
        {
          "output_type": "display_data",
          "data": {
            "text/plain": [
              "<Figure size 576x288 with 1 Axes>"
            ],
            "image/png": "[encoded data removed]"
          },
          "metadata": {
            "needs_background": "light"
          }
        }
      ],
      "source": [
        "new_cols= ['room_type_reserved','market_segment_type','booking_status','no_of_special_requests','repeated_guest','arrival_month']\n",
        "\n",
        "for i in new_cols:\n",
        "    if i!='booking_status':\n",
        "        (pd.crosstab(data[i],data['booking_status'],normalize='index')*100).plot(kind='bar',figsize=(8,4),stacked=True)\n",
        "        plt.ylabel('Percentage Cancellation %')"
      ]
    },
    {
      "cell_type": "markdown",
      "id": "d78479ce",
      "metadata": {
        "id": "d78479ce"
      },
      "source": [
        "* The cancelation of booking doesn't have any significance relation with a specific room type.The number of cancellations almost equaly distributed across all room types.\n",
        "* Around 40% of the online booking were canceled.Bookings made offline are less prone to cancellations.Corporate and Complementary segment shows least cancellations.\n",
        "* If a customer has made more than 2 requests there's a very high chance that the booking will not be canceled.\n",
        "* Cancellation of bookings are lowest in Januaray and December, while it's highest for July and August. July and August also has the most number of bookings.\n",
        "* There are very few repeat customers but the cancellation among them is very less.\n",
        "  This is a good indication as repeat customers are important for the hospitality industry as they can help in spreading     \n",
        "  the word of mouth.A loyal guest is usually more profitable for the business because they are more familiar with what is on   \n",
        "  offer at a hotel they have visited before.Attracting new customers is tedious and costs more as compared to a repeated guest."
      ]
    },
    {
      "cell_type": "markdown",
      "id": "c9ce096e",
      "metadata": {
        "id": "c9ce096e"
      },
      "source": [
        "**Let's encode Canceled bookings to 1 and Not_Canceled as 0 for further analysis**"
      ]
    },
    {
      "cell_type": "code",
      "execution_count": 34,
      "id": "voluntary-irish",
      "metadata": {
        "id": "voluntary-irish"
      },
      "outputs": [],
      "source": [
        "data[\"booking_status\"] = data[\"booking_status\"].apply(\n",
        "    lambda x: 1 if x == \"Canceled\" else 0 )"
      ]
    },
    {
      "cell_type": "code",
      "execution_count": 35,
      "id": "c03b3a81",
      "metadata": {
        "colab": {
          "base_uri": "https://localhost:8080/",
          "height": 270
        },
        "id": "c03b3a81",
        "outputId": "d7c253ea-e0f0-421e-a346-6096fc76dc77"
      },
      "outputs": [
        {
          "output_type": "execute_result",
          "data": {
            "text/plain": [
              "   no_of_adults  no_of_children  no_of_weekend_nights  no_of_week_nights  \\\n",
              "0             2               0                     1                  2   \n",
              "1             2               0                     2                  3   \n",
              "2             1               0                     2                  1   \n",
              "3             2               0                     0                  2   \n",
              "4             3               0                     0                  3   \n",
              "\n",
              "  type_of_meal_plan  required_car_parking_space room_type_reserved  lead_time  \\\n",
              "0       Meal Plan 1                           0        Room_Type 1        224   \n",
              "1      Not Selected                           0        Room_Type 1          5   \n",
              "2       Meal Plan 1                           0        Room_Type 1          1   \n",
              "3       Meal Plan 1                           0        Room_Type 1        211   \n",
              "4      Not Selected                           0        Room_Type 1        277   \n",
              "\n",
              "   arrival_year  arrival_month  arrival_date market_segment_type  \\\n",
              "0          2017             10             2             Offline   \n",
              "1          2018             11             6              Online   \n",
              "2          2018              2            28              Online   \n",
              "3          2018              5            20              Online   \n",
              "4          2019              7            13              Online   \n",
              "\n",
              "   repeated_guest  no_of_previous_cancellations  \\\n",
              "0               0                             0   \n",
              "1               0                             0   \n",
              "2               0                             0   \n",
              "3               0                             0   \n",
              "4               0                             0   \n",
              "\n",
              "   no_of_previous_bookings_not_canceled  avg_price_per_room  \\\n",
              "0                                     0            65.00000   \n",
              "1                                     0           106.68000   \n",
              "2                                     0            60.00000   \n",
              "3                                     0           100.00000   \n",
              "4                                     0            89.10000   \n",
              "\n",
              "   no_of_special_requests  booking_status  \n",
              "0                       0               0  \n",
              "1                       1               0  \n",
              "2                       0               1  \n",
              "3                       0               1  \n",
              "4                       2               1  "
            ],
            "text/html": [
              "\n",
              "  <div id=\"df-20afc7a9-f2a0-436c-af22-ec34f79bff56\">\n",
              "    <div class=\"colab-df-container\">\n",
              "      <div>\n",
              "<style scoped>\n",
              "    .dataframe tbody tr th:only-of-type {\n",
              "        vertical-align: middle;\n",
              "    }\n",
              "\n",
              "    .dataframe tbody tr th {\n",
              "        vertical-align: top;\n",
              "    }\n",
              "\n",
              "    .dataframe thead th {\n",
              "        text-align: right;\n",
              "    }\n",
              "</style>\n",
              "<table border=\"1\" class=\"dataframe\">\n",
              "  <thead>\n",
              "    <tr style=\"text-align: right;\">\n",
              "      <th></th>\n",
              "      <th>no_of_adults</th>\n",
              "      <th>no_of_children</th>\n",
              "      <th>no_of_weekend_nights</th>\n",
              "      <th>no_of_week_nights</th>\n",
              "      <th>type_of_meal_plan</th>\n",
              "      <th>required_car_parking_space</th>\n",
              "      <th>room_type_reserved</th>\n",
              "      <th>lead_time</th>\n",
              "      <th>arrival_year</th>\n",
              "      <th>arrival_month</th>\n",
              "      <th>arrival_date</th>\n",
              "      <th>market_segment_type</th>\n",
              "      <th>repeated_guest</th>\n",
              "      <th>no_of_previous_cancellations</th>\n",
              "      <th>no_of_previous_bookings_not_canceled</th>\n",
              "      <th>avg_price_per_room</th>\n",
              "      <th>no_of_special_requests</th>\n",
              "      <th>booking_status</th>\n",
              "    </tr>\n",
              "  </thead>\n",
              "  <tbody>\n",
              "    <tr>\n",
              "      <th>0</th>\n",
              "      <td>2</td>\n",
              "      <td>0</td>\n",
              "      <td>1</td>\n",
              "      <td>2</td>\n",
              "      <td>Meal Plan 1</td>\n",
              "      <td>0</td>\n",
              "      <td>Room_Type 1</td>\n",
              "      <td>224</td>\n",
              "      <td>2017</td>\n",
              "      <td>10</td>\n",
              "      <td>2</td>\n",
              "      <td>Offline</td>\n",
              "      <td>0</td>\n",
              "      <td>0</td>\n",
              "      <td>0</td>\n",
              "      <td>65.00000</td>\n",
              "      <td>0</td>\n",
              "      <td>0</td>\n",
              "    </tr>\n",
              "    <tr>\n",
              "      <th>1</th>\n",
              "      <td>2</td>\n",
              "      <td>0</td>\n",
              "      <td>2</td>\n",
              "      <td>3</td>\n",
              "      <td>Not Selected</td>\n",
              "      <td>0</td>\n",
              "      <td>Room_Type 1</td>\n",
              "      <td>5</td>\n",
              "      <td>2018</td>\n",
              "      <td>11</td>\n",
              "      <td>6</td>\n",
              "      <td>Online</td>\n",
              "      <td>0</td>\n",
              "      <td>0</td>\n",
              "      <td>0</td>\n",
              "      <td>106.68000</td>\n",
              "      <td>1</td>\n",
              "      <td>0</td>\n",
              "    </tr>\n",
              "    <tr>\n",
              "      <th>2</th>\n",
              "      <td>1</td>\n",
              "      <td>0</td>\n",
              "      <td>2</td>\n",
              "      <td>1</td>\n",
              "      <td>Meal Plan 1</td>\n",
              "      <td>0</td>\n",
              "      <td>Room_Type 1</td>\n",
              "      <td>1</td>\n",
              "      <td>2018</td>\n",
              "      <td>2</td>\n",
              "      <td>28</td>\n",
              "      <td>Online</td>\n",
              "      <td>0</td>\n",
              "      <td>0</td>\n",
              "      <td>0</td>\n",
              "      <td>60.00000</td>\n",
              "      <td>0</td>\n",
              "      <td>1</td>\n",
              "    </tr>\n",
              "    <tr>\n",
              "      <th>3</th>\n",
              "      <td>2</td>\n",
              "      <td>0</td>\n",
              "      <td>0</td>\n",
              "      <td>2</td>\n",
              "      <td>Meal Plan 1</td>\n",
              "      <td>0</td>\n",
              "      <td>Room_Type 1</td>\n",
              "      <td>211</td>\n",
              "      <td>2018</td>\n",
              "      <td>5</td>\n",
              "      <td>20</td>\n",
              "      <td>Online</td>\n",
              "      <td>0</td>\n",
              "      <td>0</td>\n",
              "      <td>0</td>\n",
              "      <td>100.00000</td>\n",
              "      <td>0</td>\n",
              "      <td>1</td>\n",
              "    </tr>\n",
              "    <tr>\n",
              "      <th>4</th>\n",
              "      <td>3</td>\n",
              "      <td>0</td>\n",
              "      <td>0</td>\n",
              "      <td>3</td>\n",
              "      <td>Not Selected</td>\n",
              "      <td>0</td>\n",
              "      <td>Room_Type 1</td>\n",
              "      <td>277</td>\n",
              "      <td>2019</td>\n",
              "      <td>7</td>\n",
              "      <td>13</td>\n",
              "      <td>Online</td>\n",
              "      <td>0</td>\n",
              "      <td>0</td>\n",
              "      <td>0</td>\n",
              "      <td>89.10000</td>\n",
              "      <td>2</td>\n",
              "      <td>1</td>\n",
              "    </tr>\n",
              "  </tbody>\n",
              "</table>\n",
              "</div>\n",
              "      <button class=\"colab-df-convert\" onclick=\"convertToInteractive('df-20afc7a9-f2a0-436c-af22-ec34f79bff56')\"\n",
              "              title=\"Convert this dataframe to an interactive table.\"\n",
              "              style=\"display:none;\">\n",
              "        \n",
              "  <svg xmlns=\"http://www.w3.org/2000/svg\" height=\"24px\"viewBox=\"0 0 24 24\"\n",
              "       width=\"24px\">\n",
              "    <path d=\"M0 0h24v24H0V0z\" fill=\"none\"/>\n",
              "    <path d=\"M18.56 5.44l.94 2.06.94-2.06 2.06-.94-2.06-.94-.94-2.06-.94 2.06-2.06.94zm-11 1L8.5 8.5l.94-2.06 2.06-.94-2.06-.94L8.5 2.5l-.94 2.06-2.06.94zm10 10l.94 2.06.94-2.06 2.06-.94-2.06-.94-.94-2.06-.94 2.06-2.06.94z\"/><path d=\"M17.41 7.96l-1.37-1.37c-.4-.4-.92-.59-1.43-.59-.52 0-1.04.2-1.43.59L10.3 9.45l-7.72 7.72c-.78.78-.78 2.05 0 2.83L4 21.41c.39.39.9.59 1.41.59.51 0 1.02-.2 1.41-.59l7.78-7.78 2.81-2.81c.8-.78.8-2.07 0-2.86zM5.41 20L4 18.59l7.72-7.72 1.47 1.35L5.41 20z\"/>\n",
              "  </svg>\n",
              "      </button>\n",
              "      \n",
              "  <style>\n",
              "    .colab-df-container {\n",
              "      display:flex;\n",
              "      flex-wrap:wrap;\n",
              "      gap: 12px;\n",
              "    }\n",
              "\n",
              "    .colab-df-convert {\n",
              "      background-color: #E8F0FE;\n",
              "      border: none;\n",
              "      border-radius: 50%;\n",
              "      cursor: pointer;\n",
              "      display: none;\n",
              "      fill: #1967D2;\n",
              "      height: 32px;\n",
              "      padding: 0 0 0 0;\n",
              "      width: 32px;\n",
              "    }\n",
              "\n",
              "    .colab-df-convert:hover {\n",
              "      background-color: #E2EBFA;\n",
              "      box-shadow: 0px 1px 2px rgba(60, 64, 67, 0.3), 0px 1px 3px 1px rgba(60, 64, 67, 0.15);\n",
              "      fill: #174EA6;\n",
              "    }\n",
              "\n",
              "    [theme=dark] .colab-df-convert {\n",
              "      background-color: #3B4455;\n",
              "      fill: #D2E3FC;\n",
              "    }\n",
              "\n",
              "    [theme=dark] .colab-df-convert:hover {\n",
              "      background-color: #434B5C;\n",
              "      box-shadow: 0px 1px 3px 1px rgba(0, 0, 0, 0.15);\n",
              "      filter: drop-shadow(0px 1px 2px rgba(0, 0, 0, 0.3));\n",
              "      fill: #FFFFFF;\n",
              "    }\n",
              "  </style>\n",
              "\n",
              "      <script>\n",
              "        const buttonEl =\n",
              "          document.querySelector('#df-20afc7a9-f2a0-436c-af22-ec34f79bff56 button.colab-df-convert');\n",
              "        buttonEl.style.display =\n",
              "          google.colab.kernel.accessAllowed ? 'block' : 'none';\n",
              "\n",
              "        async function convertToInteractive(key) {\n",
              "          const element = document.querySelector('#df-20afc7a9-f2a0-436c-af22-ec34f79bff56');\n",
              "          const dataTable =\n",
              "            await google.colab.kernel.invokeFunction('convertToInteractive',\n",
              "                                                     [key], {});\n",
              "          if (!dataTable) return;\n",
              "\n",
              "          const docLinkHtml = 'Like what you see? Visit the ' +\n",
              "            '<a target=\"_blank\" href=https://colab.research.google.com/notebooks/data_table.ipynb>data table notebook</a>'\n",
              "            + ' to learn more about interactive tables.';\n",
              "          element.innerHTML = '';\n",
              "          dataTable['output_type'] = 'display_data';\n",
              "          await google.colab.output.renderOutput(dataTable, element);\n",
              "          const docLink = document.createElement('div');\n",
              "          docLink.innerHTML = docLinkHtml;\n",
              "          element.appendChild(docLink);\n",
              "        }\n",
              "      </script>\n",
              "    </div>\n",
              "  </div>\n",
              "  "
            ]
          },
          "metadata": {},
          "execution_count": 35
        }
      ],
      "source": [
        "data.head()"
      ]
    },
    {
      "cell_type": "markdown",
      "id": "5de465b2",
      "metadata": {
        "id": "5de465b2"
      },
      "source": [
        "### Q3: Find correlation between different variables"
      ]
    },
    {
      "cell_type": "code",
      "source": [
        "import matplotlib.pyplot as plt\n",
        "\n",
        "plt.matshow(data[num_cols].corr())\n",
        "plt.show()"
      ],
      "metadata": {
        "colab": {
          "base_uri": "https://localhost:8080/",
          "height": 275
        },
        "id": "So1bLinVRTNw",
        "outputId": "c42dcf29-a614-448c-88b4-0670ba52bc19"
      },
      "id": "So1bLinVRTNw",
      "execution_count": 54,
      "outputs": [
        {
          "output_type": "display_data",
          "data": {
            "text/plain": [
              "<Figure size 288x288 with 1 Axes>"
            ],
            "image/png": "[encoded data removed]"
          },
          "metadata": {
            "needs_background": "light"
          }
        }
      ]
    },
    {
      "cell_type": "code",
      "source": [
        "data[num_cols].corr()"
      ],
      "metadata": {
        "colab": {
          "base_uri": "https://localhost:8080/",
          "height": 490
        },
        "id": "czIlLeoxUC4R",
        "outputId": "9047ea73-f023-4ea0-e8f8-cf14ff549e82"
      },
      "id": "czIlLeoxUC4R",
      "execution_count": 55,
      "outputs": [
        {
          "output_type": "execute_result",
          "data": {
            "text/plain": [
              "                                      no_of_adults  no_of_children  \\\n",
              "no_of_adults                               1.00000        -0.04677   \n",
              "no_of_children                            -0.04677         1.00000   \n",
              "no_of_weekend_nights                       0.08845         0.01546   \n",
              "no_of_week_nights                          0.11472         0.02240   \n",
              "required_car_parking_space                -0.01398         0.01515   \n",
              "lead_time                                  0.15759         0.03651   \n",
              "arrival_month                              0.00177         0.01372   \n",
              "repeated_guest                            -0.24822        -0.04839   \n",
              "no_of_previous_cancellations              -0.08240        -0.02179   \n",
              "no_of_previous_bookings_not_canceled      -0.15138        -0.02904   \n",
              "avg_price_per_room                         0.35285         0.34486   \n",
              "no_of_special_requests                     0.11327         0.06383   \n",
              "\n",
              "                                      no_of_weekend_nights  no_of_week_nights  \\\n",
              "no_of_adults                                       0.08845            0.11472   \n",
              "no_of_children                                     0.01546            0.02240   \n",
              "no_of_weekend_nights                               1.00000            0.23458   \n",
              "no_of_week_nights                                  0.23458            1.00000   \n",
              "required_car_parking_space                        -0.05414           -0.06118   \n",
              "lead_time                                          0.11601            0.21000   \n",
              "arrival_month                                      0.00037           -0.00045   \n",
              "repeated_guest                                    -0.09607           -0.12137   \n",
              "no_of_previous_cancellations                      -0.03646           -0.03908   \n",
              "no_of_previous_bookings_not_canceled              -0.04882           -0.05823   \n",
              "avg_price_per_room                                 0.00237            0.02476   \n",
              "no_of_special_requests                             0.00619            0.02686   \n",
              "\n",
              "                                      required_car_parking_space  lead_time  \\\n",
              "no_of_adults                                            -0.01398    0.15759   \n",
              "no_of_children                                           0.01515    0.03651   \n",
              "no_of_weekend_nights                                    -0.05414    0.11601   \n",
              "no_of_week_nights                                       -0.06118    0.21000   \n",
              "required_car_parking_space                               1.00000   -0.04607   \n",
              "lead_time                                               -0.04607    1.00000   \n",
              "arrival_month                                            0.00939    0.10579   \n",
              "repeated_guest                                           0.12209   -0.15493   \n",
              "no_of_previous_cancellations                             0.03557   -0.06056   \n",
              "no_of_previous_bookings_not_canceled                     0.07390   -0.08877   \n",
              "avg_price_per_room                                       0.02660    0.00737   \n",
              "no_of_special_requests                                   0.06549    0.02454   \n",
              "\n",
              "                                      arrival_month  repeated_guest  \\\n",
              "no_of_adults                                0.00177        -0.24822   \n",
              "no_of_children                              0.01372        -0.04839   \n",
              "no_of_weekend_nights                        0.00037        -0.09607   \n",
              "no_of_week_nights                          -0.00045        -0.12137   \n",
              "required_car_parking_space                  0.00939         0.12209   \n",
              "lead_time                                   0.10579        -0.15493   \n",
              "arrival_month                               1.00000        -0.00817   \n",
              "repeated_guest                             -0.00817         1.00000   \n",
              "no_of_previous_cancellations               -0.02923         0.39743   \n",
              "no_of_previous_bookings_not_canceled       -0.00932         0.55641   \n",
              "avg_price_per_room                          0.06588        -0.20006   \n",
              "no_of_special_requests                      0.06920         0.00210   \n",
              "\n",
              "                                      no_of_previous_cancellations  \\\n",
              "no_of_adults                                              -0.08240   \n",
              "no_of_children                                            -0.02179   \n",
              "no_of_weekend_nights                                      -0.03646   \n",
              "no_of_week_nights                                         -0.03908   \n",
              "required_car_parking_space                                 0.03557   \n",
              "lead_time                                                 -0.06056   \n",
              "arrival_month                                             -0.02923   \n",
              "repeated_guest                                             0.39743   \n",
              "no_of_previous_cancellations                               1.00000   \n",
              "no_of_previous_bookings_not_canceled                       0.58221   \n",
              "avg_price_per_room                                        -0.08462   \n",
              "no_of_special_requests                                     0.01002   \n",
              "\n",
              "                                      no_of_previous_bookings_not_canceled  \\\n",
              "no_of_adults                                                      -0.15138   \n",
              "no_of_children                                                    -0.02904   \n",
              "no_of_weekend_nights                                              -0.04882   \n",
              "no_of_week_nights                                                 -0.05823   \n",
              "required_car_parking_space                                         0.07390   \n",
              "lead_time                                                         -0.08877   \n",
              "arrival_month                                                     -0.00932   \n",
              "repeated_guest                                                     0.55641   \n",
              "no_of_previous_cancellations                                       0.58221   \n",
              "no_of_previous_bookings_not_canceled                               1.00000   \n",
              "avg_price_per_room                                                -0.12480   \n",
              "no_of_special_requests                                             0.03458   \n",
              "\n",
              "                                      avg_price_per_room  \\\n",
              "no_of_adults                                     0.35285   \n",
              "no_of_children                                   0.34486   \n",
              "no_of_weekend_nights                             0.00237   \n",
              "no_of_week_nights                                0.02476   \n",
              "required_car_parking_space                       0.02660   \n",
              "lead_time                                        0.00737   \n",
              "arrival_month                                    0.06588   \n",
              "repeated_guest                                  -0.20006   \n",
              "no_of_previous_cancellations                    -0.08462   \n",
              "no_of_previous_bookings_not_canceled            -0.12480   \n",
              "avg_price_per_room                               1.00000   \n",
              "no_of_special_requests                           0.12862   \n",
              "\n",
              "                                      no_of_special_requests  \n",
              "no_of_adults                                         0.11327  \n",
              "no_of_children                                       0.06383  \n",
              "no_of_weekend_nights                                 0.00619  \n",
              "no_of_week_nights                                    0.02686  \n",
              "required_car_parking_space                           0.06549  \n",
              "lead_time                                            0.02454  \n",
              "arrival_month                                        0.06920  \n",
              "repeated_guest                                       0.00210  \n",
              "no_of_previous_cancellations                         0.01002  \n",
              "no_of_previous_bookings_not_canceled                 0.03458  \n",
              "avg_price_per_room                                   0.12862  \n",
              "no_of_special_requests                               1.00000  "
            ],
            "text/html": [
              "\n",
              "  <div id=\"df-716c5c5b-1b53-432d-a346-f36a60a1b075\">\n",
              "    <div class=\"colab-df-container\">\n",
              "      <div>\n",
              "<style scoped>\n",
              "    .dataframe tbody tr th:only-of-type {\n",
              "        vertical-align: middle;\n",
              "    }\n",
              "\n",
              "    .dataframe tbody tr th {\n",
              "        vertical-align: top;\n",
              "    }\n",
              "\n",
              "    .dataframe thead th {\n",
              "        text-align: right;\n",
              "    }\n",
              "</style>\n",
              "<table border=\"1\" class=\"dataframe\">\n",
              "  <thead>\n",
              "    <tr style=\"text-align: right;\">\n",
              "      <th></th>\n",
              "      <th>no_of_adults</th>\n",
              "      <th>no_of_children</th>\n",
              "      <th>no_of_weekend_nights</th>\n",
              "      <th>no_of_week_nights</th>\n",
              "      <th>required_car_parking_space</th>\n",
              "      <th>lead_time</th>\n",
              "      <th>arrival_month</th>\n",
              "      <th>repeated_guest</th>\n",
              "      <th>no_of_previous_cancellations</th>\n",
              "      <th>no_of_previous_bookings_not_canceled</th>\n",
              "      <th>avg_price_per_room</th>\n",
              "      <th>no_of_special_requests</th>\n",
              "    </tr>\n",
              "  </thead>\n",
              "  <tbody>\n",
              "    <tr>\n",
              "      <th>no_of_adults</th>\n",
              "      <td>1.00000</td>\n",
              "      <td>-0.04677</td>\n",
              "      <td>0.08845</td>\n",
              "      <td>0.11472</td>\n",
              "      <td>-0.01398</td>\n",
              "      <td>0.15759</td>\n",
              "      <td>0.00177</td>\n",
              "      <td>-0.24822</td>\n",
              "      <td>-0.08240</td>\n",
              "      <td>-0.15138</td>\n",
              "      <td>0.35285</td>\n",
              "      <td>0.11327</td>\n",
              "    </tr>\n",
              "    <tr>\n",
              "      <th>no_of_children</th>\n",
              "      <td>-0.04677</td>\n",
              "      <td>1.00000</td>\n",
              "      <td>0.01546</td>\n",
              "      <td>0.02240</td>\n",
              "      <td>0.01515</td>\n",
              "      <td>0.03651</td>\n",
              "      <td>0.01372</td>\n",
              "      <td>-0.04839</td>\n",
              "      <td>-0.02179</td>\n",
              "      <td>-0.02904</td>\n",
              "      <td>0.34486</td>\n",
              "      <td>0.06383</td>\n",
              "    </tr>\n",
              "    <tr>\n",
              "      <th>no_of_weekend_nights</th>\n",
              "      <td>0.08845</td>\n",
              "      <td>0.01546</td>\n",
              "      <td>1.00000</td>\n",
              "      <td>0.23458</td>\n",
              "      <td>-0.05414</td>\n",
              "      <td>0.11601</td>\n",
              "      <td>0.00037</td>\n",
              "      <td>-0.09607</td>\n",
              "      <td>-0.03646</td>\n",
              "      <td>-0.04882</td>\n",
              "      <td>0.00237</td>\n",
              "      <td>0.00619</td>\n",
              "    </tr>\n",
              "    <tr>\n",
              "      <th>no_of_week_nights</th>\n",
              "      <td>0.11472</td>\n",
              "      <td>0.02240</td>\n",
              "      <td>0.23458</td>\n",
              "      <td>1.00000</td>\n",
              "      <td>-0.06118</td>\n",
              "      <td>0.21000</td>\n",
              "      <td>-0.00045</td>\n",
              "      <td>-0.12137</td>\n",
              "      <td>-0.03908</td>\n",
              "      <td>-0.05823</td>\n",
              "      <td>0.02476</td>\n",
              "      <td>0.02686</td>\n",
              "    </tr>\n",
              "    <tr>\n",
              "      <th>required_car_parking_space</th>\n",
              "      <td>-0.01398</td>\n",
              "      <td>0.01515</td>\n",
              "      <td>-0.05414</td>\n",
              "      <td>-0.06118</td>\n",
              "      <td>1.00000</td>\n",
              "      <td>-0.04607</td>\n",
              "      <td>0.00939</td>\n",
              "      <td>0.12209</td>\n",
              "      <td>0.03557</td>\n",
              "      <td>0.07390</td>\n",
              "      <td>0.02660</td>\n",
              "      <td>0.06549</td>\n",
              "    </tr>\n",
              "    <tr>\n",
              "      <th>lead_time</th>\n",
              "      <td>0.15759</td>\n",
              "      <td>0.03651</td>\n",
              "      <td>0.11601</td>\n",
              "      <td>0.21000</td>\n",
              "      <td>-0.04607</td>\n",
              "      <td>1.00000</td>\n",
              "      <td>0.10579</td>\n",
              "      <td>-0.15493</td>\n",
              "      <td>-0.06056</td>\n",
              "      <td>-0.08877</td>\n",
              "      <td>0.00737</td>\n",
              "      <td>0.02454</td>\n",
              "    </tr>\n",
              "    <tr>\n",
              "      <th>arrival_month</th>\n",
              "      <td>0.00177</td>\n",
              "      <td>0.01372</td>\n",
              "      <td>0.00037</td>\n",
              "      <td>-0.00045</td>\n",
              "      <td>0.00939</td>\n",
              "      <td>0.10579</td>\n",
              "      <td>1.00000</td>\n",
              "      <td>-0.00817</td>\n",
              "      <td>-0.02923</td>\n",
              "      <td>-0.00932</td>\n",
              "      <td>0.06588</td>\n",
              "      <td>0.06920</td>\n",
              "    </tr>\n",
              "    <tr>\n",
              "      <th>repeated_guest</th>\n",
              "      <td>-0.24822</td>\n",
              "      <td>-0.04839</td>\n",
              "      <td>-0.09607</td>\n",
              "      <td>-0.12137</td>\n",
              "      <td>0.12209</td>\n",
              "      <td>-0.15493</td>\n",
              "      <td>-0.00817</td>\n",
              "      <td>1.00000</td>\n",
              "      <td>0.39743</td>\n",
              "      <td>0.55641</td>\n",
              "      <td>-0.20006</td>\n",
              "      <td>0.00210</td>\n",
              "    </tr>\n",
              "    <tr>\n",
              "      <th>no_of_previous_cancellations</th>\n",
              "      <td>-0.08240</td>\n",
              "      <td>-0.02179</td>\n",
              "      <td>-0.03646</td>\n",
              "      <td>-0.03908</td>\n",
              "      <td>0.03557</td>\n",
              "      <td>-0.06056</td>\n",
              "      <td>-0.02923</td>\n",
              "      <td>0.39743</td>\n",
              "      <td>1.00000</td>\n",
              "      <td>0.58221</td>\n",
              "      <td>-0.08462</td>\n",
              "      <td>0.01002</td>\n",
              "    </tr>\n",
              "    <tr>\n",
              "      <th>no_of_previous_bookings_not_canceled</th>\n",
              "      <td>-0.15138</td>\n",
              "      <td>-0.02904</td>\n",
              "      <td>-0.04882</td>\n",
              "      <td>-0.05823</td>\n",
              "      <td>0.07390</td>\n",
              "      <td>-0.08877</td>\n",
              "      <td>-0.00932</td>\n",
              "      <td>0.55641</td>\n",
              "      <td>0.58221</td>\n",
              "      <td>1.00000</td>\n",
              "      <td>-0.12480</td>\n",
              "      <td>0.03458</td>\n",
              "    </tr>\n",
              "    <tr>\n",
              "      <th>avg_price_per_room</th>\n",
              "      <td>0.35285</td>\n",
              "      <td>0.34486</td>\n",
              "      <td>0.00237</td>\n",
              "      <td>0.02476</td>\n",
              "      <td>0.02660</td>\n",
              "      <td>0.00737</td>\n",
              "      <td>0.06588</td>\n",
              "      <td>-0.20006</td>\n",
              "      <td>-0.08462</td>\n",
              "      <td>-0.12480</td>\n",
              "      <td>1.00000</td>\n",
              "      <td>0.12862</td>\n",
              "    </tr>\n",
              "    <tr>\n",
              "      <th>no_of_special_requests</th>\n",
              "      <td>0.11327</td>\n",
              "      <td>0.06383</td>\n",
              "      <td>0.00619</td>\n",
              "      <td>0.02686</td>\n",
              "      <td>0.06549</td>\n",
              "      <td>0.02454</td>\n",
              "      <td>0.06920</td>\n",
              "      <td>0.00210</td>\n",
              "      <td>0.01002</td>\n",
              "      <td>0.03458</td>\n",
              "      <td>0.12862</td>\n",
              "      <td>1.00000</td>\n",
              "    </tr>\n",
              "  </tbody>\n",
              "</table>\n",
              "</div>\n",
              "      <button class=\"colab-df-convert\" onclick=\"convertToInteractive('df-716c5c5b-1b53-432d-a346-f36a60a1b075')\"\n",
              "              title=\"Convert this dataframe to an interactive table.\"\n",
              "              style=\"display:none;\">\n",
              "        \n",
              "  <svg xmlns=\"http://www.w3.org/2000/svg\" height=\"24px\"viewBox=\"0 0 24 24\"\n",
              "       width=\"24px\">\n",
              "    <path d=\"M0 0h24v24H0V0z\" fill=\"none\"/>\n",
              "    <path d=\"M18.56 5.44l.94 2.06.94-2.06 2.06-.94-2.06-.94-.94-2.06-.94 2.06-2.06.94zm-11 1L8.5 8.5l.94-2.06 2.06-.94-2.06-.94L8.5 2.5l-.94 2.06-2.06.94zm10 10l.94 2.06.94-2.06 2.06-.94-2.06-.94-.94-2.06-.94 2.06-2.06.94z\"/><path d=\"M17.41 7.96l-1.37-1.37c-.4-.4-.92-.59-1.43-.59-.52 0-1.04.2-1.43.59L10.3 9.45l-7.72 7.72c-.78.78-.78 2.05 0 2.83L4 21.41c.39.39.9.59 1.41.59.51 0 1.02-.2 1.41-.59l7.78-7.78 2.81-2.81c.8-.78.8-2.07 0-2.86zM5.41 20L4 18.59l7.72-7.72 1.47 1.35L5.41 20z\"/>\n",
              "  </svg>\n",
              "      </button>\n",
              "      \n",
              "  <style>\n",
              "    .colab-df-container {\n",
              "      display:flex;\n",
              "      flex-wrap:wrap;\n",
              "      gap: 12px;\n",
              "    }\n",
              "\n",
              "    .colab-df-convert {\n",
              "      background-color: #E8F0FE;\n",
              "      border: none;\n",
              "      border-radius: 50%;\n",
              "      cursor: pointer;\n",
              "      display: none;\n",
              "      fill: #1967D2;\n",
              "      height: 32px;\n",
              "      padding: 0 0 0 0;\n",
              "      width: 32px;\n",
              "    }\n",
              "\n",
              "    .colab-df-convert:hover {\n",
              "      background-color: #E2EBFA;\n",
              "      box-shadow: 0px 1px 2px rgba(60, 64, 67, 0.3), 0px 1px 3px 1px rgba(60, 64, 67, 0.15);\n",
              "      fill: #174EA6;\n",
              "    }\n",
              "\n",
              "    [theme=dark] .colab-df-convert {\n",
              "      background-color: #3B4455;\n",
              "      fill: #D2E3FC;\n",
              "    }\n",
              "\n",
              "    [theme=dark] .colab-df-convert:hover {\n",
              "      background-color: #434B5C;\n",
              "      box-shadow: 0px 1px 3px 1px rgba(0, 0, 0, 0.15);\n",
              "      filter: drop-shadow(0px 1px 2px rgba(0, 0, 0, 0.3));\n",
              "      fill: #FFFFFF;\n",
              "    }\n",
              "  </style>\n",
              "\n",
              "      <script>\n",
              "        const buttonEl =\n",
              "          document.querySelector('#df-716c5c5b-1b53-432d-a346-f36a60a1b075 button.colab-df-convert');\n",
              "        buttonEl.style.display =\n",
              "          google.colab.kernel.accessAllowed ? 'block' : 'none';\n",
              "\n",
              "        async function convertToInteractive(key) {\n",
              "          const element = document.querySelector('#df-716c5c5b-1b53-432d-a346-f36a60a1b075');\n",
              "          const dataTable =\n",
              "            await google.colab.kernel.invokeFunction('convertToInteractive',\n",
              "                                                     [key], {});\n",
              "          if (!dataTable) return;\n",
              "\n",
              "          const docLinkHtml = 'Like what you see? Visit the ' +\n",
              "            '<a target=\"_blank\" href=https://colab.research.google.com/notebooks/data_table.ipynb>data table notebook</a>'\n",
              "            + ' to learn more about interactive tables.';\n",
              "          element.innerHTML = '';\n",
              "          dataTable['output_type'] = 'display_data';\n",
              "          await google.colab.output.renderOutput(dataTable, element);\n",
              "          const docLink = document.createElement('div');\n",
              "          docLink.innerHTML = docLinkHtml;\n",
              "          element.appendChild(docLink);\n",
              "        }\n",
              "      </script>\n",
              "    </div>\n",
              "  </div>\n",
              "  "
            ]
          },
          "metadata": {},
          "execution_count": 55
        }
      ]
    },
    {
      "cell_type": "code",
      "execution_count": 51,
      "id": "official-wyoming",
      "metadata": {
        "id": "official-wyoming",
        "outputId": "86b362a3-62d7-4471-a6f0-3a096cb60dbe",
        "colab": {
          "base_uri": "https://localhost:8080/",
          "height": 619
        }
      },
      "outputs": [
        {
          "output_type": "display_data",
          "data": {
            "text/plain": [
              "<Figure size 864x504 with 2 Axes>"
            ],
            "image/png": "[encoded data removed]"
          },
          "metadata": {
            "needs_background": "light"
          }
        }
      ],
      "source": [
        "\n",
        "#Remove __________ and complete the code\n",
        "\n",
        "plt.figure(figsize=(12, 7))\n",
        "sns.heatmap(data[num_cols])\n",
        "plt.show()"
      ]
    },
    {
      "cell_type": "markdown",
      "id": "brave-hamilton",
      "metadata": {
        "id": "brave-hamilton"
      },
      "source": [
        "* There's a positive correlation between the number of customers (adults and children) and the average price per room.\n",
        "    * This makes sense as more the number of customers more rooms they will require thus increasing the cost.\n",
        "* There's a negative correlation between average room price by a customer and repeated guests. The hotel might be giving some loyalty benefits to the customers.\n",
        "* There's a positive correlation between the number of previous bookings canceled and previous bookings not canceled by a customer and repeated guest. \n",
        "* There's a positive correlation between lead time and the number of weeknights a customer is planning to stay in the hotel.\n",
        "* There's a positive correlation between booking status and lead time, indicating higher the lead time higher are the chances of cancellation. We will analyze it further.\n",
        "* There's a negative correlation between the number of special requests from the customer and the booking status, indicating if a customer has made some special requests the chances of cancellation might decrease. We will analyze it further."
      ]
    },
    {
      "cell_type": "markdown",
      "id": "af32f764",
      "metadata": {
        "id": "af32f764"
      },
      "source": [
        "**Generally people travel with their spouse and children for vacations or other activities. Let's create a new dataframe of the customers who traveled with their families and analyze the impact on booking status.**"
      ]
    },
    {
      "cell_type": "code",
      "execution_count": 56,
      "id": "absent-diabetes",
      "metadata": {
        "id": "absent-diabetes",
        "outputId": "52048eb4-b0de-4e71-94bc-447e74b12682",
        "colab": {
          "base_uri": "https://localhost:8080/"
        }
      },
      "outputs": [
        {
          "output_type": "execute_result",
          "data": {
            "text/plain": [
              "(35128, 18)"
            ]
          },
          "metadata": {},
          "execution_count": 56
        }
      ],
      "source": [
        "family_data = data[(data[\"no_of_children\"] >= 0) & (data[\"no_of_adults\"] > 1)]\n",
        "family_data.shape"
      ]
    },
    {
      "cell_type": "code",
      "execution_count": 57,
      "id": "animal-oxide",
      "metadata": {
        "id": "animal-oxide"
      },
      "outputs": [],
      "source": [
        "family_data[\"no_of_family_members\"] = (\n",
        "    family_data[\"no_of_adults\"] + family_data[\"no_of_children\"]\n",
        ")"
      ]
    },
    {
      "cell_type": "code",
      "execution_count": 58,
      "id": "bored-supplier",
      "metadata": {
        "id": "bored-supplier",
        "outputId": "f48c1191-5022-41af-b3c7-24932a9a5742",
        "colab": {
          "base_uri": "https://localhost:8080/",
          "height": 300
        }
      },
      "outputs": [
        {
          "output_type": "execute_result",
          "data": {
            "text/plain": [
              "Text(0, 0.5, 'Percentage Cancellation %')"
            ]
          },
          "metadata": {},
          "execution_count": 58
        },
        {
          "output_type": "display_data",
          "data": {
            "text/plain": [
              "<Figure size 576x288 with 1 Axes>"
            ],
            "image/png": "[encoded data removed]"
          },
          "metadata": {
            "needs_background": "light"
          }
        }
      ],
      "source": [
        "(pd.crosstab(family_data[\"no_of_family_members\"],family_data['booking_status'],normalize='index')*100).plot(kind='bar',figsize=(8,4),stacked=True)\n",
        "plt.ylabel('Percentage Cancellation %')"
      ]
    },
    {
      "cell_type": "markdown",
      "id": "protected-freight",
      "metadata": {
        "id": "protected-freight"
      },
      "source": [
        "* We can see that as the size of the family increases the chances of cancellation also increases.\n",
        "* There's a ~50% chance of a booking getting canceled if the booking is made for 4 family members."
      ]
    },
    {
      "cell_type": "markdown",
      "id": "formed-arthur",
      "metadata": {
        "id": "formed-arthur"
      },
      "source": [
        "**Let's do a similar analysis for the customer who stay for at least a day at the hotel.**"
      ]
    },
    {
      "cell_type": "code",
      "execution_count": 59,
      "id": "typical-insured",
      "metadata": {
        "id": "typical-insured",
        "outputId": "a66c34a7-f27f-454e-d371-135c557d6bcc",
        "colab": {
          "base_uri": "https://localhost:8080/"
        }
      },
      "outputs": [
        {
          "output_type": "execute_result",
          "data": {
            "text/plain": [
              "(22049, 18)"
            ]
          },
          "metadata": {},
          "execution_count": 59
        }
      ],
      "source": [
        "stay_data = data[(data[\"no_of_week_nights\"] > 0) & (data[\"no_of_weekend_nights\"] > 0)]\n",
        "stay_data.shape"
      ]
    },
    {
      "cell_type": "code",
      "execution_count": 60,
      "id": "african-foundation",
      "metadata": {
        "id": "african-foundation"
      },
      "outputs": [],
      "source": [
        "stay_data[\"total_days\"] = (\n",
        "    stay_data[\"no_of_week_nights\"] + stay_data[\"no_of_weekend_nights\"]\n",
        ")"
      ]
    },
    {
      "cell_type": "code",
      "execution_count": 61,
      "id": "certified-vacation",
      "metadata": {
        "id": "certified-vacation",
        "outputId": "7ba12805-7713-4542-eb72-34862af45786",
        "colab": {
          "base_uri": "https://localhost:8080/",
          "height": 300
        }
      },
      "outputs": [
        {
          "output_type": "execute_result",
          "data": {
            "text/plain": [
              "Text(0, 0.5, 'Percentage Cancellation %')"
            ]
          },
          "metadata": {},
          "execution_count": 61
        },
        {
          "output_type": "display_data",
          "data": {
            "text/plain": [
              "<Figure size 576x288 with 1 Axes>"
            ],
            "image/png": "[encoded data removed]"
          },
          "metadata": {
            "needs_background": "light"
          }
        }
      ],
      "source": [
        "(pd.crosstab(stay_data[\"total_days\"],stay_data['booking_status'],normalize='index')*100).plot(kind='bar',figsize=(8,4),stacked=True)\n",
        "plt.ylabel('Percentage Cancellation %')"
      ]
    },
    {
      "cell_type": "markdown",
      "id": "biological-concentration",
      "metadata": {
        "id": "biological-concentration"
      },
      "source": [
        "* The chances of cancellation increase as the number of days the customer planned to stay at the hotel increases.\n",
        "* The chances of cancellation increase further if the stay is planned for more than 5 days."
      ]
    },
    {
      "cell_type": "markdown",
      "id": "attached-speech",
      "metadata": {
        "id": "attached-speech"
      },
      "source": [
        "**Let's find out what are the busiest months in the hotel.**"
      ]
    },
    {
      "cell_type": "code",
      "execution_count": 62,
      "id": "configured-japan",
      "metadata": {
        "id": "configured-japan",
        "outputId": "6dff75c1-e2e3-4a90-b83e-b59cb00425f7",
        "colab": {
          "base_uri": "https://localhost:8080/",
          "height": 334
        }
      },
      "outputs": [
        {
          "output_type": "display_data",
          "data": {
            "text/plain": [
              "<Figure size 720x360 with 1 Axes>"
            ],
            "image/png": "[encoded data removed]"
          },
          "metadata": {
            "needs_background": "light"
          }
        }
      ],
      "source": [
        "# grouping the data on arrival months and extracting the count of bookings\n",
        "monthly_data = data.groupby([\"arrival_month\"])[\"booking_status\"].count()\n",
        "\n",
        "# creating a dataframe with months and count of customers in each month\n",
        "monthly_data = pd.DataFrame(\n",
        "    {\"Month\": list(monthly_data.index), \"Guests\": list(monthly_data.values)}\n",
        ")\n",
        "\n",
        "# plotting the trend over different months\n",
        "plt.figure(figsize=(10, 5))\n",
        "sns.lineplot(data=monthly_data, x=\"Month\", y=\"Guests\")\n",
        "plt.show()"
      ]
    },
    {
      "cell_type": "markdown",
      "id": "hawaiian-convert",
      "metadata": {
        "id": "hawaiian-convert"
      },
      "source": [
        "* The trend shows the number of bookings remains consistent from March to June and the hotel sees around 4000 to 4500 guests.\n",
        "* Most bookings were made in July and August- more than 5000 bookings. \n",
        "* Least bookings were made in January and November - around 2000 bookings."
      ]
    },
    {
      "cell_type": "markdown",
      "id": "tired-bridges",
      "metadata": {
        "id": "tired-bridges"
      },
      "source": [
        "**As hotel room prices are dynamic, Let's see how the prices vary across different months**"
      ]
    },
    {
      "cell_type": "code",
      "execution_count": 63,
      "id": "atomic-locator",
      "metadata": {
        "id": "atomic-locator",
        "outputId": "40421ca1-f16e-4608-f0e5-4f316c51d23a",
        "colab": {
          "base_uri": "https://localhost:8080/",
          "height": 335
        }
      },
      "outputs": [
        {
          "output_type": "display_data",
          "data": {
            "text/plain": [
              "<Figure size 720x360 with 1 Axes>"
            ],
            "image/png": "[encoded data removed]"
          },
          "metadata": {
            "needs_background": "light"
          }
        }
      ],
      "source": [
        "plt.figure(figsize=(10, 5))\n",
        "sns.lineplot(y=data[\"avg_price_per_room\"], x=data[\"arrival_month\"], ci=None)\n",
        "plt.show()"
      ]
    },
    {
      "cell_type": "markdown",
      "id": "incorporated-northern",
      "metadata": {
        "id": "incorporated-northern"
      },
      "source": [
        "* The price of rooms is highest in May to August - vary from 120-130 euros per room."
      ]
    },
    {
      "cell_type": "markdown",
      "id": "pleased-chicken",
      "metadata": {
        "id": "pleased-chicken"
      },
      "source": [
        "### Data Preparation for modeling\n",
        "\n",
        "- We want to predict which bookings will be canceled.\n",
        "- Before we proceed to build a model, we'll have to encode categorical features.\n",
        "- We'll split the data into train and test to be able to evaluate the model that we build on the train data."
      ]
    },
    {
      "cell_type": "code",
      "execution_count": 64,
      "id": "70f00a80",
      "metadata": {
        "id": "70f00a80"
      },
      "outputs": [],
      "source": [
        "X = data.drop([\"booking_status\"], axis=1)\n",
        "Y = data[\"booking_status\"]\n",
        "\n",
        "X = pd.get_dummies(X, drop_first=True)\n",
        "\n",
        "# Splitting data in train and test sets\n",
        "X_train, X_test, y_train, y_test = train_test_split(\n",
        "    X, Y, test_size=0.30, random_state=1)"
      ]
    },
    {
      "cell_type": "code",
      "execution_count": 65,
      "id": "ecological-principal",
      "metadata": {
        "id": "ecological-principal",
        "outputId": "e9ca61d0-999b-434f-e4ad-59f0157b4788",
        "colab": {
          "base_uri": "https://localhost:8080/"
        }
      },
      "outputs": [
        {
          "output_type": "stream",
          "name": "stdout",
          "text": [
            "Shape of Training set :  (29803, 27)\n",
            "Shape of test set :  (12773, 27)\n",
            "Percentage of classes in training set:\n",
            "0   0.66107\n",
            "1   0.33893\n",
            "Name: booking_status, dtype: float64\n",
            "Percentage of classes in test set:\n",
            "0   0.65662\n",
            "1   0.34338\n",
            "Name: booking_status, dtype: float64\n"
          ]
        }
      ],
      "source": [
        "print(\"Shape of Training set : \", X_train.shape)\n",
        "print(\"Shape of test set : \", X_test.shape)\n",
        "print(\"Percentage of classes in training set:\")\n",
        "print(y_train.value_counts(normalize=True))\n",
        "print(\"Percentage of classes in test set:\")\n",
        "print(y_test.value_counts(normalize=True))"
      ]
    },
    {
      "cell_type": "markdown",
      "id": "cultural-engagement",
      "metadata": {
        "id": "cultural-engagement"
      },
      "source": [
        "### Model evaluation criterion\n",
        "\n",
        "### Model can make wrong predictions as:\n",
        "\n",
        "1. Predicting a customer will not cancel their booking but in reality, the customer will cancel their booking.\n",
        "2. Predicting a customer will cancel their booking but in reality, the customer will not cancel their booking. \n",
        "\n",
        "### Which case is more important? \n",
        "* Both the cases are important as:\n",
        "\n",
        "* If we predict that a booking will not be canceled and the booking gets canceled then the hotel will lose resources and will have to bear additional costs of distribution channels.\n",
        "\n",
        "* If we predict that a booking will get canceled and the booking doesn't get canceled the hotel might not be able to provide satisfactory services to the customer by assuming that this booking will be canceled. This might damage the brand equity. \n",
        "\n",
        "\n",
        "\n",
        "### How to reduce the losses?\n",
        "\n",
        "* Hotel would want `F1 Score` to be maximized, greater the F1  score higher are the chances of minimizing False Negatives and False Positives. "
      ]
    },
    {
      "cell_type": "code",
      "execution_count": 66,
      "id": "1797999b",
      "metadata": {
        "id": "1797999b"
      },
      "outputs": [],
      "source": [
        "def metrics_score(actual, predicted):\n",
        "    print(classification_report(actual, predicted))\n",
        "    cm = confusion_matrix(actual, predicted)\n",
        "    plt.figure(figsize=(8,5))\n",
        "    sns.heatmap(cm, annot=True,  fmt='.2f', xticklabels=['Not Cancelled', 'Cancelled'], yticklabels=['Not Cancelled', 'Cancelled'])\n",
        "    plt.ylabel('Actual')\n",
        "    plt.xlabel('Predicted')\n",
        "    plt.show()"
      ]
    },
    {
      "cell_type": "markdown",
      "id": "mysterious-sight",
      "metadata": {
        "id": "mysterious-sight"
      },
      "source": [
        "### Logistic Regression (with Sklearn library)"
      ]
    },
    {
      "cell_type": "markdown",
      "id": "59458c1c",
      "metadata": {
        "id": "59458c1c"
      },
      "source": [
        "### Q 4: Build the logistic regression model use random_state =1 and check its performance on train and test dataset"
      ]
    },
    {
      "cell_type": "code",
      "execution_count": 68,
      "id": "plastic-logistics",
      "metadata": {
        "id": "plastic-logistics",
        "outputId": "513e3942-95bb-4c2c-bfcb-803e0922eab1",
        "colab": {
          "base_uri": "https://localhost:8080/"
        }
      },
      "outputs": [
        {
          "output_type": "execute_result",
          "data": {
            "text/plain": [
              "LogisticRegression(solver='newton-cg')"
            ]
          },
          "metadata": {},
          "execution_count": 68
        }
      ],
      "source": [
        "# There are different solvers available in Sklearn logistic regression\n",
        "# The newton-cg solver is faster for high-dimensional data\n",
        "\n",
        "\n",
        "#Remove __________ and complete the code\n",
        "\n",
        "#define the logistic regression model\n",
        "log_reg = LogisticRegression(solver='newton-cg')\n",
        "\n",
        "#fir the logistic regression model\n",
        "log_reg.fit(X_train,y_train)"
      ]
    },
    {
      "cell_type": "code",
      "execution_count": 71,
      "id": "coordinate-superintendent",
      "metadata": {
        "id": "coordinate-superintendent",
        "outputId": "61846ffc-2898-41f2-fedd-00e63f1be81c",
        "colab": {
          "base_uri": "https://localhost:8080/",
          "height": 490
        }
      },
      "outputs": [
        {
          "output_type": "stream",
          "name": "stdout",
          "text": [
            "              precision    recall  f1-score   support\n",
            "\n",
            "           0       0.82      0.88      0.85     19702\n",
            "           1       0.73      0.61      0.67     10101\n",
            "\n",
            "    accuracy                           0.79     29803\n",
            "   macro avg       0.77      0.75      0.76     29803\n",
            "weighted avg       0.79      0.79      0.79     29803\n",
            "\n"
          ]
        },
        {
          "output_type": "display_data",
          "data": {
            "text/plain": [
              "<Figure size 576x360 with 2 Axes>"
            ],
            "image/png": "[encoded data removed]"
          },
          "metadata": {
            "needs_background": "light"
          }
        }
      ],
      "source": [
        "# predicting on training set\n",
        "\n",
        "#Remove __________ and complete the code\n",
        "\n",
        "y_pred_train = log_reg.predict(X_train)\n",
        "\n",
        "metrics_score(y_train, y_pred_train)"
      ]
    },
    {
      "cell_type": "markdown",
      "id": "eight-edition",
      "metadata": {
        "id": "eight-edition"
      },
      "source": [
        "#### Checking performance on test set"
      ]
    },
    {
      "cell_type": "code",
      "execution_count": 72,
      "id": "peaceful-uruguay",
      "metadata": {
        "id": "peaceful-uruguay",
        "outputId": "0bef6959-243a-4ba6-9d2d-d313a3ed75b1",
        "colab": {
          "base_uri": "https://localhost:8080/",
          "height": 490
        }
      },
      "outputs": [
        {
          "output_type": "stream",
          "name": "stdout",
          "text": [
            "              precision    recall  f1-score   support\n",
            "\n",
            "           0       0.81      0.89      0.85      8387\n",
            "           1       0.74      0.61      0.67      4386\n",
            "\n",
            "    accuracy                           0.79     12773\n",
            "   macro avg       0.77      0.75      0.76     12773\n",
            "weighted avg       0.79      0.79      0.79     12773\n",
            "\n"
          ]
        },
        {
          "output_type": "display_data",
          "data": {
            "text/plain": [
              "<Figure size 576x360 with 2 Axes>"
            ],
            "image/png": "[encoded data removed]"
          },
          "metadata": {
            "needs_background": "light"
          }
        }
      ],
      "source": [
        "# predicting on the test set\n",
        "\n",
        "#Remove __________ and complete the code\n",
        "\n",
        "y_pred_test = log_reg.predict(X_test)\n",
        "metrics_score(y_test,y_pred_test)"
      ]
    },
    {
      "cell_type": "markdown",
      "id": "given-relations",
      "metadata": {
        "id": "given-relations"
      },
      "source": [
        "**Observations**\n",
        "\n",
        "- F1 score on the training and test set is very close, which indicates our model is not overfitting and the model is a good fit.\n",
        "- The F1 score is 0.67 on the training and test set.\n",
        "- The model has high precision and low recall. To get a good F1 score the precision and recall should be comparable."
      ]
    },
    {
      "cell_type": "markdown",
      "id": "2bd52886",
      "metadata": {
        "id": "2bd52886"
      },
      "source": [
        "### Logistic Regression (with statsmodels library)"
      ]
    },
    {
      "cell_type": "code",
      "execution_count": 73,
      "id": "02647c05",
      "metadata": {
        "id": "02647c05"
      },
      "outputs": [],
      "source": [
        "X = data.drop([\"booking_status\"], axis=1)\n",
        "Y = data[\"booking_status\"]\n",
        "\n",
        "# adding constant\n",
        "X = sm.add_constant(X)\n",
        "\n",
        "X = pd.get_dummies(X, drop_first=True)\n",
        "\n",
        "# Splitting data in train and test sets\n",
        "X_train, X_test, y_train, y_test = train_test_split(\n",
        "    X, Y, test_size=0.30, random_state=1\n",
        ")"
      ]
    },
    {
      "cell_type": "code",
      "execution_count": 74,
      "id": "4fc5efbb",
      "metadata": {
        "colab": {
          "base_uri": "https://localhost:8080/"
        },
        "id": "4fc5efbb",
        "outputId": "3d2d0595-24f6-4551-f05d-25faec54071d"
      },
      "outputs": [
        {
          "output_type": "stream",
          "name": "stdout",
          "text": [
            "                           Logit Regression Results                           \n",
            "==============================================================================\n",
            "Dep. Variable:         booking_status   No. Observations:                29803\n",
            "Model:                          Logit   Df Residuals:                    29775\n",
            "Method:                           MLE   Df Model:                           27\n",
            "Date:                Fri, 11 Mar 2022   Pseudo R-squ.:                  0.3293\n",
            "Time:                        23:42:00   Log-Likelihood:                -12799.\n",
            "converged:                      False   LL-Null:                       -19083.\n",
            "Covariance Type:            nonrobust   LLR p-value:                     0.000\n",
            "========================================================================================================\n",
            "                                           coef    std err          z      P>|z|      [0.025      0.975]\n",
            "--------------------------------------------------------------------------------------------------------\n",
            "const                                   91.4613     68.734      1.331      0.183     -43.256     226.178\n",
            "no_of_adults                            -0.0320      0.035     -0.904      0.366      -0.102       0.037\n",
            "no_of_children                           0.1129      0.048      2.375      0.018       0.020       0.206\n",
            "no_of_weekend_nights                     0.0337      0.018      1.874      0.061      -0.002       0.069\n",
            "no_of_week_nights                        0.0732      0.011      6.885      0.000       0.052       0.094\n",
            "required_car_parking_space              -1.5124      0.116    -13.007      0.000      -1.740      -1.285\n",
            "lead_time                                0.0168      0.000     62.116      0.000       0.016       0.017\n",
            "arrival_year                            -0.0468      0.034     -1.373      0.170      -0.114       0.020\n",
            "arrival_month                           -0.0416      0.007     -6.146      0.000      -0.055      -0.028\n",
            "arrival_date                            -0.0029      0.002     -1.650      0.099      -0.006       0.001\n",
            "repeated_guest                          -3.0309      0.594     -5.099      0.000      -4.196      -1.866\n",
            "no_of_previous_cancellations             0.2225      0.096      2.307      0.021       0.033       0.412\n",
            "no_of_previous_bookings_not_canceled    -0.0098      0.053     -0.186      0.852      -0.113       0.093\n",
            "avg_price_per_room                       0.0168      0.001     25.746      0.000       0.015       0.018\n",
            "no_of_special_requests                  -1.2915      0.024    -54.838      0.000      -1.338      -1.245\n",
            "type_of_meal_plan_Meal Plan 2           -0.1580      0.080     -1.982      0.048      -0.314      -0.002\n",
            "type_of_meal_plan_Meal Plan 3            2.3659   4.29e+04   5.51e-05      1.000   -8.41e+04    8.42e+04\n",
            "type_of_meal_plan_Not Selected           0.3612      0.043      8.413      0.000       0.277       0.445\n",
            "room_type_reserved_Room_Type 2          -0.1851      0.127     -1.454      0.146      -0.435       0.064\n",
            "room_type_reserved_Room_Type 3           0.3624      1.334      0.272      0.786      -2.251       2.976\n",
            "room_type_reserved_Room_Type 4          -0.1271      0.044     -2.861      0.004      -0.214      -0.040\n",
            "room_type_reserved_Room_Type 5          -0.2723      0.112     -2.422      0.015      -0.493      -0.052\n",
            "room_type_reserved_Room_Type 6          -0.5080      0.120     -4.250      0.000      -0.742      -0.274\n",
            "room_type_reserved_Room_Type 7          -0.7297      0.201     -3.634      0.000      -1.123      -0.336\n",
            "market_segment_type_Complementary      -20.6061   4771.099     -0.004      0.997   -9371.789    9330.577\n",
            "market_segment_type_Corporate           -0.3716      0.274     -1.357      0.175      -0.908       0.165\n",
            "market_segment_type_Offline             -1.9833      0.260     -7.616      0.000      -2.494      -1.473\n",
            "market_segment_type_Online               0.2361      0.254      0.930      0.352      -0.262       0.734\n",
            "========================================================================================================\n"
          ]
        }
      ],
      "source": [
        "# fitting logistic regression model\n",
        "logit = sm.Logit(y_train, X_train.astype(float))\n",
        "lg2 = logit.fit(disp=False)\n",
        "\n",
        "print(lg2.summary())"
      ]
    },
    {
      "cell_type": "code",
      "execution_count": 75,
      "id": "5f3b5635",
      "metadata": {
        "colab": {
          "base_uri": "https://localhost:8080/",
          "height": 508
        },
        "id": "5f3b5635",
        "outputId": "49e88d0e-7db3-4833-d899-6a20344cd1de"
      },
      "outputs": [
        {
          "output_type": "stream",
          "name": "stdout",
          "text": [
            "Training performance:\n",
            "              precision    recall  f1-score   support\n",
            "\n",
            "           0       0.82      0.88      0.85     19702\n",
            "           1       0.73      0.61      0.67     10101\n",
            "\n",
            "    accuracy                           0.79     29803\n",
            "   macro avg       0.77      0.75      0.76     29803\n",
            "weighted avg       0.79      0.79      0.79     29803\n",
            "\n"
          ]
        },
        {
          "output_type": "display_data",
          "data": {
            "text/plain": [
              "<Figure size 576x360 with 2 Axes>"
            ],
            "image/png": "[encoded data removed]"
          },
          "metadata": {
            "needs_background": "light"
          }
        }
      ],
      "source": [
        "# checking which probabilities are greater than threshold(default threshold = 0.5)\n",
        "pred_temp = lg2.predict(X_train) > 0.5\n",
        "# rounding off the above values to get classes\n",
        "pred = np.round(pred_temp)\n",
        "print(\"Training performance:\")\n",
        "metrics_score(y_train, pred)"
      ]
    },
    {
      "cell_type": "code",
      "execution_count": 76,
      "id": "c9212b93",
      "metadata": {
        "colab": {
          "base_uri": "https://localhost:8080/",
          "height": 508
        },
        "id": "c9212b93",
        "outputId": "74e38e4f-6418-4c33-f781-cd5837a987ff"
      },
      "outputs": [
        {
          "output_type": "stream",
          "name": "stdout",
          "text": [
            "Test performance:\n",
            "              precision    recall  f1-score   support\n",
            "\n",
            "           0       0.81      0.89      0.85      8387\n",
            "           1       0.74      0.61      0.67      4386\n",
            "\n",
            "    accuracy                           0.79     12773\n",
            "   macro avg       0.77      0.75      0.76     12773\n",
            "weighted avg       0.79      0.79      0.79     12773\n",
            "\n"
          ]
        },
        {
          "output_type": "display_data",
          "data": {
            "text/plain": [
              "<Figure size 576x360 with 2 Axes>"
            ],
            "image/png": "[encoded data removed]"
          },
          "metadata": {
            "needs_background": "light"
          }
        }
      ],
      "source": [
        "pred_temp_test = lg2.predict(X_test) > 0.5\n",
        "# rounding off the above values to get classes\n",
        "pred_test = np.round(pred_temp_test)\n",
        "print(\"Test performance:\")\n",
        "metrics_score(y_test, pred_test)"
      ]
    },
    {
      "cell_type": "markdown",
      "id": "6c87163a",
      "metadata": {
        "id": "6c87163a"
      },
      "source": [
        "**Observations**\n",
        "\n",
        "- Negative values of the coefficient show that the probability of customers canceling the booking decreases with the increase of the corresponding attribute value.\n",
        "\n",
        "- Positive values of the coefficient show that the probability of customer canceling increases with the increase of corresponding attribute value.\n",
        "\n",
        "- p-value of a variable indicates if the variable is significant or not. If we consider the significance level to be 0.05 (5%), then any variable with a p-value less than 0.05 would be considered significant.\n"
      ]
    },
    {
      "cell_type": "markdown",
      "id": "monthly-segment",
      "metadata": {
        "id": "monthly-segment"
      },
      "source": [
        "### Model Performance Improvement"
      ]
    },
    {
      "cell_type": "markdown",
      "id": "rapid-conflict",
      "metadata": {
        "id": "rapid-conflict"
      },
      "source": [
        "* Let's see if the recall score can be improved further, by changing the model threshold using Precision-Recall Curve."
      ]
    },
    {
      "cell_type": "markdown",
      "id": "c3504ba6",
      "metadata": {
        "id": "c3504ba6"
      },
      "source": [
        "### Q5: What is the value at which precision recall are equal"
      ]
    },
    {
      "cell_type": "code",
      "execution_count": 84,
      "id": "acute-newark",
      "metadata": {
        "id": "acute-newark",
        "outputId": "d1302aef-81ac-4ec0-824e-f60044f4ad0b",
        "colab": {
          "base_uri": "https://localhost:8080/",
          "height": 446
        }
      },
      "outputs": [
        {
          "output_type": "display_data",
          "data": {
            "text/plain": [
              "<Figure size 720x504 with 1 Axes>"
            ],
            "image/png": "[encoded data removed]"
          },
          "metadata": {
            "needs_background": "light"
          }
        }
      ],
      "source": [
        "#use Precision-Recall curve and see if we can find a better threshold\n",
        "\n",
        "#Remove __________ and complete the code\n",
        "\n",
        "y_scores = lg2.predict(X_train) \n",
        "\n",
        "\n",
        "precisions, recalls, thresholds = precision_recall_curve(y_train, y_scores, )\n",
        "\n",
        "#Plot values of precisions, recalls, and thresholds\n",
        "plt.figure(figsize=(10,7))\n",
        "plt.plot(thresholds, precisions[:-1], 'b--', label='precision')\n",
        "plt.plot(thresholds, recalls[:-1], 'g--', label = 'recall')\n",
        "plt.xlabel('Threshold')\n",
        "plt.legend(loc='upper left')\n",
        "plt.ylim([0,1])\n",
        "plt.show()"
      ]
    },
    {
      "cell_type": "markdown",
      "id": "supported-series",
      "metadata": {
        "id": "supported-series"
      },
      "source": [
        "* At 0.42 threshold we get a balanced precision and recall."
      ]
    },
    {
      "cell_type": "markdown",
      "id": "add02332",
      "metadata": {
        "id": "add02332"
      },
      "source": [
        "### Find the optimal threshold point"
      ]
    },
    {
      "cell_type": "code",
      "execution_count": null,
      "id": "1d75db5c",
      "metadata": {
        "id": "1d75db5c"
      },
      "outputs": [],
      "source": [
        "#calculating the exact threshold where precision and recall are equal.\n",
        "\n",
        "#Remove __________ and complete the code\n",
        "\n",
        "for i in np.arange(___________):\n",
        "    if __________:\n",
        "        print(______________)"
      ]
    },
    {
      "cell_type": "code",
      "execution_count": null,
      "id": "brown-advertiser",
      "metadata": {
        "id": "brown-advertiser"
      },
      "outputs": [],
      "source": [
        "# setting the threshold\n",
        "\n",
        "#Remove __________ and complete the code\n",
        "\n",
        "# define optimal threshold value\n",
        "\n",
        "optimal_threshold = ___________\n",
        "# creating confusion matrix\n",
        "y_pred = lg2.predict(X_train) > optimal_threshold\n",
        "metrics_score(y_train, y_pred)"
      ]
    },
    {
      "cell_type": "markdown",
      "id": "environmental-surface",
      "metadata": {
        "id": "environmental-surface"
      },
      "source": [
        "#### Checking model performance on training set"
      ]
    },
    {
      "cell_type": "code",
      "execution_count": null,
      "id": "mental-albany",
      "metadata": {
        "id": "mental-albany"
      },
      "outputs": [],
      "source": [
        "y_pred_test = lg2.predict(X_test) > optimal_threshold\n",
        "metrics_score(y_test, y_pred_test)"
      ]
    },
    {
      "cell_type": "markdown",
      "id": "polish-moldova",
      "metadata": {
        "id": "polish-moldova"
      },
      "source": [
        "### Model performance summary"
      ]
    },
    {
      "cell_type": "markdown",
      "id": "virgin-polls",
      "metadata": {
        "id": "virgin-polls"
      },
      "source": [
        "\n",
        "### Observations from Logistic Regression model\n",
        "- We have been able to build a predictive model that can be used by the hotel to predict which bookings are likely to be cancelled with an F1 score of 0.69 on the training set and formulate marketing policies accordingly.\n",
        "\n",
        "* The logistic regression models are giving a generalized performance on training and test set.\n",
        "\n",
        "* **Using the model with default threshold the model will give a low recall but good precision score -** The hotel will be able to predict which bookings will not be cancelled and will be able to provide satisfactory services to those customers which help in maintaining the brand equity but will lose on resources. \n",
        "\n",
        "* **Using the model with a 0.42 threshold the model will give a balance recall and precision score -** The hotel will be able to maintain a balance between resources and brand equity. "
      ]
    },
    {
      "cell_type": "markdown",
      "id": "separated-prague",
      "metadata": {
        "id": "separated-prague"
      },
      "source": [
        "## Decision Tree"
      ]
    },
    {
      "cell_type": "markdown",
      "id": "immune-malta",
      "metadata": {
        "id": "immune-malta"
      },
      "source": [
        "### Q6 and Q7: Building Decision Tree Model, Checking performance and finding feature importance"
      ]
    },
    {
      "cell_type": "code",
      "execution_count": 86,
      "id": "recognized-nurse",
      "metadata": {
        "id": "recognized-nurse",
        "outputId": "fa968ec6-ee3a-423b-e4fb-1b93327a0bf3",
        "colab": {
          "base_uri": "https://localhost:8080/"
        }
      },
      "outputs": [
        {
          "output_type": "execute_result",
          "data": {
            "text/plain": [
              "DecisionTreeClassifier()"
            ]
          },
          "metadata": {},
          "execution_count": 86
        }
      ],
      "source": [
        "#Remove __________ and complete the code\n",
        "\n",
        "#define the Decision tree model Use random_state=1\n",
        "\n",
        "d_tree= tree.DecisionTreeClassifier()\n",
        "\n",
        "#fitting decision tree model\n",
        "d_tree.fit(X_train, y_train)"
      ]
    },
    {
      "cell_type": "markdown",
      "id": "identified-upper",
      "metadata": {
        "id": "identified-upper"
      },
      "source": [
        "#### Checking model performance on training set"
      ]
    },
    {
      "cell_type": "code",
      "execution_count": 88,
      "id": "female-kennedy",
      "metadata": {
        "id": "female-kennedy",
        "outputId": "028d8917-9d3f-4d75-8062-bcf1c39f63fc",
        "colab": {
          "base_uri": "https://localhost:8080/",
          "height": 490
        }
      },
      "outputs": [
        {
          "output_type": "stream",
          "name": "stdout",
          "text": [
            "              precision    recall  f1-score   support\n",
            "\n",
            "           0       1.00      1.00      1.00     19702\n",
            "           1       1.00      0.99      1.00     10101\n",
            "\n",
            "    accuracy                           1.00     29803\n",
            "   macro avg       1.00      1.00      1.00     29803\n",
            "weighted avg       1.00      1.00      1.00     29803\n",
            "\n"
          ]
        },
        {
          "output_type": "display_data",
          "data": {
            "text/plain": [
              "<Figure size 576x360 with 2 Axes>"
            ],
            "image/png": "[encoded data removed]"
          },
          "metadata": {
            "needs_background": "light"
          }
        }
      ],
      "source": [
        "# predicting on training set\n",
        "\n",
        "#Remove __________ and complete the code\n",
        "\n",
        "pred_train_dt = d_tree.predict(X_train)\n",
        "metrics_score(y_train, pred_train_dt  )"
      ]
    },
    {
      "cell_type": "markdown",
      "id": "neither-omaha",
      "metadata": {
        "id": "neither-omaha"
      },
      "source": [
        "#### Checking model performance on test set"
      ]
    },
    {
      "cell_type": "code",
      "execution_count": 89,
      "id": "applied-magazine",
      "metadata": {
        "id": "applied-magazine",
        "outputId": "e6d41924-005b-4f3a-e6f6-f2652f7d2c1a",
        "scrolled": false,
        "colab": {
          "base_uri": "https://localhost:8080/",
          "height": 492
        }
      },
      "outputs": [
        {
          "output_type": "stream",
          "name": "stdout",
          "text": [
            "              precision    recall  f1-score   support\n",
            "\n",
            "           0       0.84      0.84      0.84      8387\n",
            "           1       0.70      0.70      0.70      4386\n",
            "\n",
            "    accuracy                           0.79     12773\n",
            "   macro avg       0.77      0.77      0.77     12773\n",
            "weighted avg       0.79      0.79      0.79     12773\n",
            "\n"
          ]
        },
        {
          "output_type": "display_data",
          "data": {
            "text/plain": [
              "<Figure size 576x360 with 2 Axes>"
            ],
            "image/png": "[encoded data removed]"
          },
          "metadata": {
            "needs_background": "light"
          }
        }
      ],
      "source": [
        "# predicting on test set\n",
        "\n",
        "\n",
        "\n",
        "pred_test_dt = d_tree.predict(X_test)\n",
        "metrics_score(y_test, pred_test_dt)"
      ]
    },
    {
      "cell_type": "markdown",
      "id": "d64853d3",
      "metadata": {
        "id": "d64853d3"
      },
      "source": [
        "### Check the feature importance for the decision tree model"
      ]
    },
    {
      "cell_type": "code",
      "source": [
        "data.columns"
      ],
      "metadata": {
        "colab": {
          "base_uri": "https://localhost:8080/"
        },
        "id": "Ijkxw--FbNHI",
        "outputId": "a41b02bd-005e-458f-d821-23e23dee4712"
      },
      "id": "Ijkxw--FbNHI",
      "execution_count": 92,
      "outputs": [
        {
          "output_type": "execute_result",
          "data": {
            "text/plain": [
              "Index(['no_of_adults', 'no_of_children', 'no_of_weekend_nights',\n",
              "       'no_of_week_nights', 'type_of_meal_plan', 'required_car_parking_space',\n",
              "       'room_type_reserved', 'lead_time', 'arrival_year', 'arrival_month',\n",
              "       'arrival_date', 'market_segment_type', 'repeated_guest',\n",
              "       'no_of_previous_cancellations', 'no_of_previous_bookings_not_canceled',\n",
              "       'avg_price_per_room', 'no_of_special_requests', 'booking_status'],\n",
              "      dtype='object')"
            ]
          },
          "metadata": {},
          "execution_count": 92
        }
      ]
    },
    {
      "cell_type": "code",
      "execution_count": 97,
      "id": "genetic-channels",
      "metadata": {
        "id": "genetic-channels",
        "outputId": "82356970-aa7a-446a-f28a-ac476613e2a9",
        "colab": {
          "base_uri": "https://localhost:8080/",
          "height": 513
        }
      },
      "outputs": [
        {
          "output_type": "display_data",
          "data": {
            "text/plain": [
              "<Figure size 576x576 with 1 Axes>"
            ],
            "image/png": "[encoded data removed]"
          },
          "metadata": {
            "needs_background": "light"
          }
        }
      ],
      "source": [
        "#Remove __________ and complete the code\n",
        "\n",
        "feature_names = d_tree.feature_names_in_\n",
        "importances = d_tree.feature_importances_\n",
        "indices = np.argsort(importances)\n",
        "\n",
        "plt.figure(figsize=(8, 8))\n",
        "plt.title(\"Feature Importances\")\n",
        "plt.barh(range(len(indices)), importances[indices], color=\"violet\", align=\"center\")\n",
        "plt.yticks(range(len(indices)), [feature_names[i] for i in indices])\n",
        "plt.xlabel(\"Relative Importance\")\n",
        "plt.show()"
      ]
    },
    {
      "cell_type": "markdown",
      "id": "3f4360fb",
      "metadata": {
        "id": "3f4360fb"
      },
      "source": [
        "### Q8: Decision Tree - Hyperparameter Tuning"
      ]
    },
    {
      "cell_type": "code",
      "execution_count": null,
      "id": "abd072ad",
      "metadata": {
        "id": "abd072ad"
      },
      "outputs": [],
      "source": [
        "#define decision tree clssifier\n",
        "#Remove __________ and complete the code\n",
        "d_tree_tuned = tree.DecisionTreeClassifier()\n",
        "\n",
        "\n",
        "# Grid of hyperparameters to choose from\n",
        "#Remove __________ and complete the code\n",
        "parameters = {max_depth, min_samples_split}\n",
        "\n",
        "\n",
        "# Type of scoring used to compare parameter combinations - recall score for class 1\n",
        "scorer = metrics.make_scorer(recall_score, pos_label=1)\n",
        "\n",
        "\n",
        "# Run the grid search\n",
        "#Remove __________ and complete the code\n",
        "grid_obj = ____________________________\n",
        "grid_obj = _______________________-\n",
        "\n",
        "\n",
        "# Set the clf to the best combination of parameters\n",
        "#Remove __________ and complete the code\n",
        "d_tree_tuned = _____________________\n",
        "\n",
        "\n",
        "# Fit the best algorithm to the data. \n",
        "#Remove __________ and complete the code\n",
        "d_tree_tuned.fit(______________________-)"
      ]
    },
    {
      "cell_type": "markdown",
      "id": "be72e142",
      "metadata": {
        "id": "be72e142"
      },
      "source": [
        "#### Checking performance on training set"
      ]
    },
    {
      "cell_type": "code",
      "execution_count": null,
      "id": "839f071a",
      "metadata": {
        "id": "839f071a"
      },
      "outputs": [],
      "source": [
        "pred_train_dt_2 = d_tree_tuned.predict(X_train)\n",
        "metrics_score(y_train, pred_train_dt_2)"
      ]
    },
    {
      "cell_type": "markdown",
      "id": "805630a1",
      "metadata": {
        "id": "805630a1"
      },
      "source": [
        "#### Checking performance on training set"
      ]
    },
    {
      "cell_type": "code",
      "execution_count": null,
      "id": "6f6b9843",
      "metadata": {
        "id": "6f6b9843"
      },
      "outputs": [],
      "source": [
        "pred_test_dt_2 = d_tree_tuned.predict(X_test)\n",
        "metrics_score(y_test, pred_test_dt_2)"
      ]
    },
    {
      "cell_type": "markdown",
      "id": "6c4fef07",
      "metadata": {
        "id": "6c4fef07"
      },
      "source": [
        "**Let's visualize the tuned decision tree** and observe the decision rules:"
      ]
    },
    {
      "cell_type": "code",
      "execution_count": null,
      "id": "19cc8a83",
      "metadata": {
        "id": "19cc8a83"
      },
      "outputs": [],
      "source": [
        "features = list(X.columns)\n",
        "\n",
        "plt.figure(figsize=(20,20))\n",
        "from sklearn import tree\n",
        "tree.plot_tree(d_tree_tuned,feature_names=features,filled=True,fontsize=9,node_ids=True,class_names=True)\n",
        "plt.show()"
      ]
    },
    {
      "cell_type": "code",
      "execution_count": null,
      "id": "5d3cac53",
      "metadata": {
        "id": "5d3cac53"
      },
      "outputs": [],
      "source": [
        "# importance of features in the tree building\n",
        "\n",
        "importances = d_tree_tuned._______________\n",
        "indices = np.argsort(importances)\n",
        "\n",
        "plt.figure(figsize=(8, 8))\n",
        "plt.title(\"Feature Importances\")\n",
        "plt.barh(range(len(indices)), importances[indices], color=\"violet\", align=\"center\")\n",
        "plt.yticks(range(len(indices)), [feature_names[i] for i in indices])\n",
        "plt.xlabel(\"Relative Importance\")\n",
        "plt.show()"
      ]
    },
    {
      "cell_type": "markdown",
      "id": "differential-perth",
      "metadata": {
        "id": "differential-perth"
      },
      "source": [
        "### Observations from decision tree\n",
        "\n",
        "* We can see that the tree has become simpler and the rules of the trees are readable.\n",
        "* The model performance of the model has been generalized.\n",
        "\n",
        "\n",
        "* We observe that the most important features are:\n",
        "    * Lead Time\n",
        "    * Number of special requests\n",
        "    * Market Segment - Online\n",
        "    * Average price per room\n",
        "\n",
        "**The rules obtained from the decision tree can be interpreted as:**\n",
        "\n",
        "* The rules show that lead time plays a key role in identifying if a booking will be cancelled or not. 150 days has been considered as a threshold value by the model to make the first split.\n",
        "\n",
        "**Bookings made more than 150 days before the date of arrival:**\n",
        "\n",
        "* If the customer has more than 2 special requests the booking is less likely to be cancelled. \n",
        "* If the customer has less than or equal to 2 special requests, the average price per room is more than 100 euros, there is a high chance of booking getting cancelled, although if the average price per room of room is less than 100 euros, and that booking was not done Online it is less likely to get canceled.\n",
        "\n",
        "**Bookings made under 150 days before the date of arrival:**\n",
        "\n",
        "* If a customer has at least 1 special request the booking is less likely to be cancelled. \n",
        "* If the customer didn't make any special requests and the booking was done Online it is more likely to get canceled.\n",
        "\n",
        "`If we want more complex then we can go in more depth of the tree`"
      ]
    },
    {
      "cell_type": "markdown",
      "id": "growing-excitement",
      "metadata": {
        "id": "growing-excitement"
      },
      "source": [
        "**Observations**\n",
        "* Decision tree model with default parameters is overfitting the training data and is not able to generalize well.\n",
        "* Tuned Decision Tree tree given a generalized performance with balanced values of precision and recall.\n"
      ]
    },
    {
      "cell_type": "markdown",
      "id": "otherwise-increase",
      "metadata": {
        "id": "otherwise-increase"
      },
      "source": [
        "### Conclusion\n",
        "* Overall we can see that the Decision Tree model performs better on the dataset.\n",
        "* Looking at important variables based on p-values in Logistic regression and feature importance in the Decision Tree model\n",
        "    * Lead Time, Number of special requests, Market Segment - Online, Average price per room are important in both model\n",
        "    * From the Logistic Regression model we observe that Lead Time, Average price per room, and Online market segment have a positive relation with bookings getting canclled. And the number of special requests has negative relation with bookings getting cancelled."
      ]
    },
    {
      "cell_type": "markdown",
      "id": "c944c0c1",
      "metadata": {
        "id": "c944c0c1"
      },
      "source": [
        "### Q9: Building SVM and checking its performance"
      ]
    },
    {
      "cell_type": "code",
      "execution_count": 98,
      "id": "74cf938d",
      "metadata": {
        "id": "74cf938d"
      },
      "outputs": [],
      "source": [
        "from sklearn.svm import SVC"
      ]
    },
    {
      "cell_type": "code",
      "execution_count": 99,
      "id": "9dcfbfca",
      "metadata": {
        "colab": {
          "base_uri": "https://localhost:8080/"
        },
        "id": "9dcfbfca",
        "outputId": "6caa92a1-9360-48df-f788-f9da0fc83d20"
      },
      "outputs": [
        {
          "output_type": "execute_result",
          "data": {
            "text/plain": [
              "SVC(kernel='linear')"
            ]
          },
          "metadata": {},
          "execution_count": 99
        }
      ],
      "source": [
        "#Remove __________ and complete the code\n",
        "\n",
        "#define the SVM model\n",
        "\n",
        "svm = SVC(kernel = 'linear') #linear kernal or linear decision boundary\n",
        "\n",
        "#fit svm model\n",
        "svm.fit(X = X_train, y = y_train)"
      ]
    },
    {
      "cell_type": "code",
      "execution_count": 100,
      "id": "95724f9c",
      "metadata": {
        "colab": {
          "base_uri": "https://localhost:8080/",
          "height": 490
        },
        "id": "95724f9c",
        "outputId": "993001a4-3e2e-4404-b91a-d548027d2551"
      },
      "outputs": [
        {
          "output_type": "stream",
          "name": "stdout",
          "text": [
            "              precision    recall  f1-score   support\n",
            "\n",
            "           0       0.82      0.88      0.85     19702\n",
            "           1       0.72      0.63      0.67     10101\n",
            "\n",
            "    accuracy                           0.79     29803\n",
            "   macro avg       0.77      0.75      0.76     29803\n",
            "weighted avg       0.79      0.79      0.79     29803\n",
            "\n"
          ]
        },
        {
          "output_type": "display_data",
          "data": {
            "text/plain": [
              "<Figure size 576x360 with 2 Axes>"
            ],
            "image/png": "[encoded data removed]"
          },
          "metadata": {
            "needs_background": "light"
          }
        }
      ],
      "source": [
        "# predicting on training set\n",
        "\n",
        "#Remove __________ and complete the code\n",
        "\n",
        "pred_train_svm = svm.predict(X_train)\n",
        "metrics_score(y_train, pred_train_svm)"
      ]
    },
    {
      "cell_type": "code",
      "execution_count": 101,
      "id": "934633d6",
      "metadata": {
        "colab": {
          "base_uri": "https://localhost:8080/",
          "height": 490
        },
        "id": "934633d6",
        "outputId": "6b36ff12-e275-4a1a-adfc-47cb1fb333b5"
      },
      "outputs": [
        {
          "output_type": "stream",
          "name": "stdout",
          "text": [
            "              precision    recall  f1-score   support\n",
            "\n",
            "           0       0.82      0.87      0.84      8387\n",
            "           1       0.72      0.63      0.67      4386\n",
            "\n",
            "    accuracy                           0.79     12773\n",
            "   macro avg       0.77      0.75      0.76     12773\n",
            "weighted avg       0.79      0.79      0.79     12773\n",
            "\n"
          ]
        },
        {
          "output_type": "display_data",
          "data": {
            "text/plain": [
              "<Figure size 576x360 with 2 Axes>"
            ],
            "image/png": "[encoded data removed]"
          },
          "metadata": {
            "needs_background": "light"
          }
        }
      ],
      "source": [
        "# predicting on training set\n",
        "\n",
        "#Remove __________ and complete the code\n",
        "\n",
        "pred_test_svm = svm.predict(X_test)\n",
        "metrics_score(y_test, pred_test_svm)"
      ]
    },
    {
      "cell_type": "markdown",
      "id": "efd38c16",
      "metadata": {
        "id": "efd38c16"
      },
      "source": [
        "* SVM model with default kernel  linear is not overfitting as the accuracy is around 80% for both train and test dataset\n",
        "* Recall for the model only around 60% which implies this model  not always correctly predict the bookings which could be cancelled by the customer. But\n",
        "* The precision score is good and so the model identifies most of the cases correctly where booking will not be cancelled."
      ]
    },
    {
      "cell_type": "markdown",
      "id": "marked-coaching",
      "metadata": {
        "id": "marked-coaching"
      },
      "source": [
        "### Business Recommendations\n",
        "\n",
        "1. The lead time and the number of special requests made by the customer play a key role in identifying if a booking will be cancelled or not. Bookings where a customer has made a special request and the booking was done under 150 days to the date of arrival are less likely to be canceled.\n",
        "\n",
        "    * Using this information, the hotel can take the following actions:\n",
        "        * Set up a system that can send a prompt like an automated email to the customers before the arrival date asking for a  re-confirmation of their booking and any changes they would like to make in their bookings.\n",
        "        * Remind guests about imminent deadlines.\n",
        " \n",
        "The response given by the customer will give the hotel ample time to re-sell the room or make preparations for the customers' requests.\n",
        "\n",
        "\n",
        "2. Stricter cancellation policies can be adopted by the hotel. \n",
        "    * The bookings where the average price per room is high, and there were special requests associated should not get a full refund as the loss of resources will be high in these cases.\n",
        "    * Ideally the cancellation policies should be consistent across all market segments but as noticed in our analysis high percentage of bookings done online are cancelled. The booking cancelled online should yield less percentage of refund to the customers.\n",
        "    \n",
        "The refunds, cancellation fee, etc should be highlighted on the website/app before a customer confirms their booking to safeguard guests' interest.\n",
        "\n",
        "3. The length of stay at the hotel can be restricted.\n",
        "    * We saw in our analysis that bookings, where the total length of stay was more than 5 days, had higher chances of getting cancelled.\n",
        "    * Hotel can allow bookings up to 5 days only and then customers should be asked to re-book if they wish to stay longer. These policies can be relaxed for corporate and Aviation market segments. For other market segments, the process should be fairly easy to not hamper their experience with the hotel.\n",
        "\n",
        "Such restrictions can be strategized by the hotel to generate additional revenue.\n",
        "\n",
        "\n",
        "4. In the months November, December, and January cancellation to non-cancellation ratio is low. Customers might travel to celebrate Christmas and New Year. The hotel should ensure that enough human resources are available to cater to the needs of the guests.\n",
        "\n",
        "\n",
        "5. July and August saw the highest number of bookings but also the highest number of cancellations. This should be investigated further by the hotel. \n",
        "\n",
        "\n",
        "6. Post-booking interactions can be initiated with the customers.\n",
        "\n",
        "    * Post-booking interactions will show the guests the level of attention and care they would receive at the hotel. \n",
        "    * To give guests a personalized experience, information about local events, nearby places to explore, etc can be shared from time to time.\n",
        "\n",
        "\n",
        "7. Improving the experience of repeated customers.\n",
        "\n",
        "    * Our analysis shows that there are very few repeated customers and the cancellation among them is very less which is a good indication as repeat customers are important for the hospitality industry as they can help in spreading the word of mouth.\n",
        "    * A loyal guest is usually more profitable for the business because they are more familiar with offerings from the hotel they have visited before.\n",
        "    * Attracting new customers is tedious and costs more as compared to a repeated guest.\n",
        "    * A loyalty program that offers - special discounts, access to services in hotels, etc for these customers can help in improving their experience."
      ]
    }
  ],
  "metadata": {
    "colab": {
      "name": "CHT_StarHotels_Hands-On-Quiz-1.ipynb",
      "provenance": []
    },
    "kernelspec": {
      "display_name": "Python 3 (ipykernel)",
      "language": "python",
      "name": "python3"
    },
    "language_info": {
      "codemirror_mode": {
        "name": "ipython",
        "version": 3
      },
      "file_extension": ".py",
      "mimetype": "text/x-python",
      "name": "python",
      "nbconvert_exporter": "python",
      "pygments_lexer": "ipython3",
      "version": "3.8.12"
    }
  },
  "nbformat": 4,
  "nbformat_minor": 5
}